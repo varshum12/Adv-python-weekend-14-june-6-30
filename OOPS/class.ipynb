{
 "cells": [
  {
   "cell_type": "code",
   "execution_count": 1,
   "id": "e232d7bf",
   "metadata": {},
   "outputs": [
    {
     "name": "stdout",
     "output_type": "stream",
     "text": [
      "<class 'str'>\n"
     ]
    }
   ],
   "source": [
    "s =  'swara'\n",
    "print(type(s))"
   ]
  },
  {
   "cell_type": "code",
   "execution_count": 3,
   "id": "12c8426f",
   "metadata": {},
   "outputs": [
    {
     "name": "stdout",
     "output_type": "stream",
     "text": [
      "<class 'int'>\n"
     ]
    }
   ],
   "source": [
    "i  = 23\n",
    "print(type(i))"
   ]
  },
  {
   "cell_type": "code",
   "execution_count": 4,
   "id": "55b2cf79",
   "metadata": {},
   "outputs": [
    {
     "name": "stdout",
     "output_type": "stream",
     "text": [
      "<class 'float'>\n"
     ]
    }
   ],
   "source": [
    "f  =  34.56\n",
    "print(type(f))"
   ]
  },
  {
   "cell_type": "code",
   "execution_count": 6,
   "id": "9606e83c",
   "metadata": {},
   "outputs": [
    {
     "name": "stdout",
     "output_type": "stream",
     "text": [
      "<class 'dict'>\n"
     ]
    }
   ],
   "source": [
    "d  =  {'name' : ['seeta'  , 'geeta' , 'neeta' ,  'sunita'],\n",
    "'age'  : [23,24,25,26]}\n",
    "print(type(d))"
   ]
  },
  {
   "cell_type": "code",
   "execution_count": 7,
   "id": "d106dbe0",
   "metadata": {},
   "outputs": [],
   "source": [
    "import pandas as pd"
   ]
  },
  {
   "cell_type": "code",
   "execution_count": 8,
   "id": "1b98636a",
   "metadata": {},
   "outputs": [],
   "source": [
    "df  =  pd.DataFrame(d)"
   ]
  },
  {
   "cell_type": "code",
   "execution_count": 9,
   "id": "47ea3040",
   "metadata": {},
   "outputs": [
    {
     "data": {
      "text/html": [
       "<div>\n",
       "<style scoped>\n",
       "    .dataframe tbody tr th:only-of-type {\n",
       "        vertical-align: middle;\n",
       "    }\n",
       "\n",
       "    .dataframe tbody tr th {\n",
       "        vertical-align: top;\n",
       "    }\n",
       "\n",
       "    .dataframe thead th {\n",
       "        text-align: right;\n",
       "    }\n",
       "</style>\n",
       "<table border=\"1\" class=\"dataframe\">\n",
       "  <thead>\n",
       "    <tr style=\"text-align: right;\">\n",
       "      <th></th>\n",
       "      <th>name</th>\n",
       "      <th>age</th>\n",
       "    </tr>\n",
       "  </thead>\n",
       "  <tbody>\n",
       "    <tr>\n",
       "      <th>0</th>\n",
       "      <td>seeta</td>\n",
       "      <td>23</td>\n",
       "    </tr>\n",
       "    <tr>\n",
       "      <th>1</th>\n",
       "      <td>geeta</td>\n",
       "      <td>24</td>\n",
       "    </tr>\n",
       "    <tr>\n",
       "      <th>2</th>\n",
       "      <td>neeta</td>\n",
       "      <td>25</td>\n",
       "    </tr>\n",
       "    <tr>\n",
       "      <th>3</th>\n",
       "      <td>sunita</td>\n",
       "      <td>26</td>\n",
       "    </tr>\n",
       "  </tbody>\n",
       "</table>\n",
       "</div>"
      ],
      "text/plain": [
       "     name  age\n",
       "0   seeta   23\n",
       "1   geeta   24\n",
       "2   neeta   25\n",
       "3  sunita   26"
      ]
     },
     "execution_count": 9,
     "metadata": {},
     "output_type": "execute_result"
    }
   ],
   "source": [
    "df"
   ]
  },
  {
   "cell_type": "code",
   "execution_count": 10,
   "id": "90564a8f",
   "metadata": {},
   "outputs": [
    {
     "name": "stdout",
     "output_type": "stream",
     "text": [
      "<class 'pandas.core.frame.DataFrame'>\n"
     ]
    }
   ],
   "source": [
    "print(type(df))"
   ]
  },
  {
   "cell_type": "code",
   "execution_count": null,
   "id": "71eedc59",
   "metadata": {},
   "outputs": [],
   "source": [
    "# Attributes \n",
    "dtypes\n",
    "values\n",
    "size\n",
    "shape\n",
    "columns\n",
    "index"
   ]
  },
  {
   "cell_type": "code",
   "execution_count": 12,
   "id": "21bd9532",
   "metadata": {},
   "outputs": [
    {
     "data": {
      "text/plain": [
       "8"
      ]
     },
     "execution_count": 12,
     "metadata": {},
     "output_type": "execute_result"
    }
   ],
   "source": [
    "df.size"
   ]
  },
  {
   "cell_type": "code",
   "execution_count": 13,
   "id": "581982ed",
   "metadata": {},
   "outputs": [
    {
     "data": {
      "text/plain": [
       "(4, 2)"
      ]
     },
     "execution_count": 13,
     "metadata": {},
     "output_type": "execute_result"
    }
   ],
   "source": [
    "df.shape"
   ]
  },
  {
   "cell_type": "code",
   "execution_count": 14,
   "id": "78d671d0",
   "metadata": {},
   "outputs": [
    {
     "data": {
      "text/plain": [
       "RangeIndex(start=0, stop=4, step=1)"
      ]
     },
     "execution_count": 14,
     "metadata": {},
     "output_type": "execute_result"
    }
   ],
   "source": [
    "df.index"
   ]
  },
  {
   "cell_type": "code",
   "execution_count": 16,
   "id": "c12a80a0",
   "metadata": {},
   "outputs": [
    {
     "data": {
      "text/plain": [
       "Index(['name', 'age'], dtype='object')"
      ]
     },
     "execution_count": 16,
     "metadata": {},
     "output_type": "execute_result"
    }
   ],
   "source": [
    "df.columns"
   ]
  },
  {
   "cell_type": "code",
   "execution_count": 17,
   "id": "05920cd0",
   "metadata": {},
   "outputs": [
    {
     "data": {
      "text/plain": [
       "name    object\n",
       "age      int64\n",
       "dtype: object"
      ]
     },
     "execution_count": 17,
     "metadata": {},
     "output_type": "execute_result"
    }
   ],
   "source": [
    "df.dtypes"
   ]
  },
  {
   "cell_type": "code",
   "execution_count": 18,
   "id": "e5cae275",
   "metadata": {},
   "outputs": [
    {
     "data": {
      "text/plain": [
       "array([['seeta', 23],\n",
       "       ['geeta', 24],\n",
       "       ['neeta', 25],\n",
       "       ['sunita', 26]], dtype=object)"
      ]
     },
     "execution_count": 18,
     "metadata": {},
     "output_type": "execute_result"
    }
   ],
   "source": [
    "df.values"
   ]
  },
  {
   "cell_type": "code",
   "execution_count": null,
   "id": "22ad8521",
   "metadata": {},
   "outputs": [],
   "source": [
    "# functions\n",
    "isnull() \n",
    "sum()\n",
    "info()"
   ]
  },
  {
   "cell_type": "code",
   "execution_count": 19,
   "id": "0170c915",
   "metadata": {},
   "outputs": [
    {
     "data": {
      "text/plain": [
       "name    0\n",
       "age     0\n",
       "dtype: int64"
      ]
     },
     "execution_count": 19,
     "metadata": {},
     "output_type": "execute_result"
    }
   ],
   "source": [
    "df.isnull().sum()"
   ]
  },
  {
   "cell_type": "code",
   "execution_count": 20,
   "id": "de471be0",
   "metadata": {},
   "outputs": [
    {
     "name": "stdout",
     "output_type": "stream",
     "text": [
      "<class 'pandas.core.frame.DataFrame'>\n",
      "RangeIndex: 4 entries, 0 to 3\n",
      "Data columns (total 2 columns):\n",
      " #   Column  Non-Null Count  Dtype \n",
      "---  ------  --------------  ----- \n",
      " 0   name    4 non-null      object\n",
      " 1   age     4 non-null      int64 \n",
      "dtypes: int64(1), object(1)\n",
      "memory usage: 196.0+ bytes\n"
     ]
    }
   ],
   "source": [
    "df.info()"
   ]
  },
  {
   "attachments": {
    "image.png": {
     "image/png": "[encoded data removed]"
    }
   },
   "cell_type": "markdown",
   "id": "d6eb59b0",
   "metadata": {},
   "source": [
    " ![image.png](attachment:image.png)"
   ]
  },
  {
   "cell_type": "code",
   "execution_count": 29,
   "id": "f0593964",
   "metadata": {},
   "outputs": [],
   "source": [
    "class Person:\n",
    "\n",
    "    # instance method \n",
    "    def __init__(self , name  ,  age, gender , occupation ):\n",
    "        self.name  =  name\n",
    "        self.Age =  age\n",
    "        self.gender =  gender\n",
    "        self.occupation = occupation\n"
   ]
  },
  {
   "cell_type": "code",
   "execution_count": 22,
   "id": "23a08451",
   "metadata": {},
   "outputs": [],
   "source": [
    "o1  =  Person('Prajkta' ,  27 , 'female' ,  'data analyst')"
   ]
  },
  {
   "cell_type": "code",
   "execution_count": 23,
   "id": "24f187ed",
   "metadata": {},
   "outputs": [
    {
     "data": {
      "text/plain": [
       "<__main__.Person at 0x12bc7b51400>"
      ]
     },
     "execution_count": 23,
     "metadata": {},
     "output_type": "execute_result"
    }
   ],
   "source": [
    "o1"
   ]
  },
  {
   "cell_type": "code",
   "execution_count": 24,
   "id": "dac48e11",
   "metadata": {},
   "outputs": [
    {
     "data": {
      "text/plain": [
       "'Prajkta'"
      ]
     },
     "execution_count": 24,
     "metadata": {},
     "output_type": "execute_result"
    }
   ],
   "source": [
    "o1.name"
   ]
  },
  {
   "cell_type": "code",
   "execution_count": 27,
   "id": "aa41765b",
   "metadata": {},
   "outputs": [
    {
     "ename": "AttributeError",
     "evalue": "'Person' object has no attribute 'age'",
     "output_type": "error",
     "traceback": [
      "\u001b[31m---------------------------------------------------------------------------\u001b[39m",
      "\u001b[31mAttributeError\u001b[39m                            Traceback (most recent call last)",
      "\u001b[36mCell\u001b[39m\u001b[36m \u001b[39m\u001b[32mIn[27]\u001b[39m\u001b[32m, line 1\u001b[39m\n\u001b[32m----> \u001b[39m\u001b[32m1\u001b[39m \u001b[43mo1\u001b[49m\u001b[43m.\u001b[49m\u001b[43mage\u001b[49m\n",
      "\u001b[31mAttributeError\u001b[39m: 'Person' object has no attribute 'age'"
     ]
    }
   ],
   "source": [
    "o1.age"
   ]
  },
  {
   "cell_type": "code",
   "execution_count": 28,
   "id": "b61c4efb",
   "metadata": {},
   "outputs": [
    {
     "data": {
      "text/plain": [
       "27"
      ]
     },
     "execution_count": 28,
     "metadata": {},
     "output_type": "execute_result"
    }
   ],
   "source": [
    "o1.Age"
   ]
  },
  {
   "cell_type": "code",
   "execution_count": 30,
   "id": "57882ecf",
   "metadata": {},
   "outputs": [
    {
     "data": {
      "text/plain": [
       "'data analyst'"
      ]
     },
     "execution_count": 30,
     "metadata": {},
     "output_type": "execute_result"
    }
   ],
   "source": [
    "o1.occupation"
   ]
  },
  {
   "cell_type": "code",
   "execution_count": 31,
   "id": "c05f7404",
   "metadata": {},
   "outputs": [],
   "source": [
    "o2  = Person('Prajkta'  , 'female' ,  'data analyst' , 27)"
   ]
  },
  {
   "cell_type": "code",
   "execution_count": 32,
   "id": "5159b43e",
   "metadata": {},
   "outputs": [
    {
     "data": {
      "text/plain": [
       "'female'"
      ]
     },
     "execution_count": 32,
     "metadata": {},
     "output_type": "execute_result"
    }
   ],
   "source": [
    "o2.Age"
   ]
  },
  {
   "cell_type": "code",
   "execution_count": 33,
   "id": "b847ea87",
   "metadata": {},
   "outputs": [],
   "source": [
    "o2  = Person(name = 'Prajkta'  ,gender  =  'female' , occupation  = 'data analyst' , age = 27)"
   ]
  },
  {
   "cell_type": "code",
   "execution_count": 34,
   "id": "8cef3f9d",
   "metadata": {},
   "outputs": [
    {
     "data": {
      "text/plain": [
       "'Prajkta'"
      ]
     },
     "execution_count": 34,
     "metadata": {},
     "output_type": "execute_result"
    }
   ],
   "source": [
    "o2.name"
   ]
  },
  {
   "cell_type": "code",
   "execution_count": 35,
   "id": "742a5fd8",
   "metadata": {},
   "outputs": [
    {
     "data": {
      "text/plain": [
       "27"
      ]
     },
     "execution_count": 35,
     "metadata": {},
     "output_type": "execute_result"
    }
   ],
   "source": [
    "o2.Age"
   ]
  },
  {
   "cell_type": "code",
   "execution_count": 36,
   "id": "5c01eec8",
   "metadata": {},
   "outputs": [],
   "source": [
    "o3  =  Person(name  = 'Akanksha' , age = 17 , occupation =  None , gender  =  'Female') "
   ]
  },
  {
   "cell_type": "code",
   "execution_count": 37,
   "id": "4dca48d2",
   "metadata": {},
   "outputs": [
    {
     "data": {
      "text/plain": [
       "'Akanksha'"
      ]
     },
     "execution_count": 37,
     "metadata": {},
     "output_type": "execute_result"
    }
   ],
   "source": [
    "o3.name"
   ]
  },
  {
   "cell_type": "code",
   "execution_count": 38,
   "id": "ed9e6473",
   "metadata": {},
   "outputs": [
    {
     "data": {
      "text/plain": [
       "17"
      ]
     },
     "execution_count": 38,
     "metadata": {},
     "output_type": "execute_result"
    }
   ],
   "source": [
    "o3.Age"
   ]
  },
  {
   "cell_type": "code",
   "execution_count": 39,
   "id": "5b0cf9de",
   "metadata": {},
   "outputs": [],
   "source": [
    "o3.occupation"
   ]
  },
  {
   "cell_type": "code",
   "execution_count": 40,
   "id": "1e3f1e20",
   "metadata": {},
   "outputs": [
    {
     "ename": "TypeError",
     "evalue": "Person.__init__() missing 1 required positional argument: 'occupation'",
     "output_type": "error",
     "traceback": [
      "\u001b[31m---------------------------------------------------------------------------\u001b[39m",
      "\u001b[31mTypeError\u001b[39m                                 Traceback (most recent call last)",
      "\u001b[36mCell\u001b[39m\u001b[36m \u001b[39m\u001b[32mIn[40]\u001b[39m\u001b[32m, line 1\u001b[39m\n\u001b[32m----> \u001b[39m\u001b[32m1\u001b[39m o3  =  \u001b[43mPerson\u001b[49m\u001b[43m(\u001b[49m\u001b[43mname\u001b[49m\u001b[43m  \u001b[49m\u001b[43m=\u001b[49m\u001b[43m \u001b[49m\u001b[33;43m'\u001b[39;49m\u001b[33;43mAkanksha\u001b[39;49m\u001b[33;43m'\u001b[39;49m\u001b[43m \u001b[49m\u001b[43m,\u001b[49m\u001b[43m \u001b[49m\u001b[43mage\u001b[49m\u001b[43m \u001b[49m\u001b[43m=\u001b[49m\u001b[43m \u001b[49m\u001b[32;43m17\u001b[39;49m\u001b[43m  \u001b[49m\u001b[43m,\u001b[49m\u001b[43m \u001b[49m\u001b[43mgender\u001b[49m\u001b[43m  \u001b[49m\u001b[43m=\u001b[49m\u001b[43m  \u001b[49m\u001b[33;43m'\u001b[39;49m\u001b[33;43mFemale\u001b[39;49m\u001b[33;43m'\u001b[39;49m\u001b[43m)\u001b[49m \n",
      "\u001b[31mTypeError\u001b[39m: Person.__init__() missing 1 required positional argument: 'occupation'"
     ]
    }
   ],
   "source": [
    "o3  =  Person(name  = 'Akanksha' , age = 17  , gender  =  'Female') "
   ]
  },
  {
   "cell_type": "code",
   "execution_count": 41,
   "id": "1b1ec61b",
   "metadata": {},
   "outputs": [],
   "source": [
    "# address\n",
    "o4  =  Person(name  =  'Umesh' , age  =  28 ,  gender  = 'male' , occupation  = 'bussiness')"
   ]
  },
  {
   "cell_type": "code",
   "execution_count": 42,
   "id": "558c9ba2",
   "metadata": {},
   "outputs": [
    {
     "data": {
      "text/plain": [
       "'Umesh'"
      ]
     },
     "execution_count": 42,
     "metadata": {},
     "output_type": "execute_result"
    }
   ],
   "source": [
    "o4.name"
   ]
  },
  {
   "cell_type": "code",
   "execution_count": 43,
   "id": "2c1427be",
   "metadata": {},
   "outputs": [
    {
     "data": {
      "text/plain": [
       "'bussiness'"
      ]
     },
     "execution_count": 43,
     "metadata": {},
     "output_type": "execute_result"
    }
   ],
   "source": [
    "o4.occupation"
   ]
  },
  {
   "cell_type": "code",
   "execution_count": 44,
   "id": "0695fd74",
   "metadata": {},
   "outputs": [],
   "source": [
    "o4.Address = 'Vadgoan'"
   ]
  },
  {
   "cell_type": "code",
   "execution_count": 46,
   "id": "9d86bc5c",
   "metadata": {},
   "outputs": [
    {
     "data": {
      "text/plain": [
       "'Vadgoan'"
      ]
     },
     "execution_count": 46,
     "metadata": {},
     "output_type": "execute_result"
    }
   ],
   "source": [
    "o4.Address"
   ]
  },
  {
   "cell_type": "code",
   "execution_count": 47,
   "id": "699173c0",
   "metadata": {},
   "outputs": [
    {
     "data": {
      "text/plain": [
       "28"
      ]
     },
     "execution_count": 47,
     "metadata": {},
     "output_type": "execute_result"
    }
   ],
   "source": [
    "o4.Age"
   ]
  },
  {
   "cell_type": "code",
   "execution_count": 48,
   "id": "d6f87b92",
   "metadata": {},
   "outputs": [],
   "source": [
    "o4.Age  =  27"
   ]
  },
  {
   "cell_type": "code",
   "execution_count": 50,
   "id": "67c7675f",
   "metadata": {},
   "outputs": [
    {
     "data": {
      "text/plain": [
       "27"
      ]
     },
     "execution_count": 50,
     "metadata": {},
     "output_type": "execute_result"
    }
   ],
   "source": [
    "o4.Age"
   ]
  },
  {
   "cell_type": "code",
   "execution_count": 69,
   "id": "04054aa6",
   "metadata": {},
   "outputs": [],
   "source": [
    "class Person:\n",
    "\n",
    "    # instance method \n",
    "    def __init__(self , name  ,  age, gender , occupation ):\n",
    "        self.name  =  name\n",
    "        self.Age =  age\n",
    "        self.gender =  gender\n",
    "        self.occupation = occupation\n",
    "\n",
    "        # add functionality talk\n",
    "    def talk(self):\n",
    "        print(f'I am {self.name}')\n",
    "        print(f'My age is {self.Age}')\n",
    "        print(f'I am {self.gender}')\n",
    "        print(f'I work as {self.occupation}')"
   ]
  },
  {
   "cell_type": "code",
   "execution_count": 70,
   "id": "a8b2001b",
   "metadata": {},
   "outputs": [],
   "source": [
    "# address\n",
    "o4  =  Person(name  =  'Umesh' , age  =  28 ,  gender  = 'male' , occupation  = 'bussiness')"
   ]
  },
  {
   "cell_type": "code",
   "execution_count": 71,
   "id": "5966f569",
   "metadata": {},
   "outputs": [
    {
     "data": {
      "text/plain": [
       "'Umesh'"
      ]
     },
     "execution_count": 71,
     "metadata": {},
     "output_type": "execute_result"
    }
   ],
   "source": [
    "o4.name"
   ]
  },
  {
   "cell_type": "code",
   "execution_count": 72,
   "id": "ccf28348",
   "metadata": {},
   "outputs": [],
   "source": [
    "o4.Adress = 'VAdgoan'"
   ]
  },
  {
   "cell_type": "code",
   "execution_count": 73,
   "id": "527b6f1b",
   "metadata": {},
   "outputs": [
    {
     "data": {
      "text/plain": [
       "'VAdgoan'"
      ]
     },
     "execution_count": 73,
     "metadata": {},
     "output_type": "execute_result"
    }
   ],
   "source": [
    "o4.Adress"
   ]
  },
  {
   "cell_type": "code",
   "execution_count": 74,
   "id": "76cb7dbc",
   "metadata": {},
   "outputs": [],
   "source": [
    "o4.__delattr__('Adress')"
   ]
  },
  {
   "cell_type": "code",
   "execution_count": 75,
   "id": "3b891d51",
   "metadata": {},
   "outputs": [
    {
     "ename": "AttributeError",
     "evalue": "'Person' object has no attribute 'Adress'",
     "output_type": "error",
     "traceback": [
      "\u001b[31m---------------------------------------------------------------------------\u001b[39m",
      "\u001b[31mAttributeError\u001b[39m                            Traceback (most recent call last)",
      "\u001b[36mCell\u001b[39m\u001b[36m \u001b[39m\u001b[32mIn[75]\u001b[39m\u001b[32m, line 1\u001b[39m\n\u001b[32m----> \u001b[39m\u001b[32m1\u001b[39m \u001b[43mo4\u001b[49m\u001b[43m.\u001b[49m\u001b[43mAdress\u001b[49m\n",
      "\u001b[31mAttributeError\u001b[39m: 'Person' object has no attribute 'Adress'"
     ]
    }
   ],
   "source": [
    "o4.Adress"
   ]
  },
  {
   "cell_type": "code",
   "execution_count": 76,
   "id": "eeee4fa7",
   "metadata": {},
   "outputs": [
    {
     "name": "stdout",
     "output_type": "stream",
     "text": [
      "I am Umesh\n",
      "My age is 28\n",
      "I am male\n",
      "I work as bussiness\n"
     ]
    }
   ],
   "source": [
    "o4.talk()"
   ]
  },
  {
   "cell_type": "code",
   "execution_count": 17,
   "id": "07f0bf0b",
   "metadata": {},
   "outputs": [],
   "source": [
    "# nam e , age , gender  , occupation  =  instance variables\n",
    "class employee:\n",
    "    company = 'TCS'           # \n",
    "    def __init__(self , name , age ):\n",
    "        self.name=  name\n",
    "        self.age =  age\n"
   ]
  },
  {
   "cell_type": "code",
   "execution_count": 18,
   "id": "b49b4c24",
   "metadata": {},
   "outputs": [
    {
     "data": {
      "text/plain": [
       "<__main__.employee at 0x298c9e72660>"
      ]
     },
     "execution_count": 18,
     "metadata": {},
     "output_type": "execute_result"
    }
   ],
   "source": [
    "e1  = employee(name  = 'Suresh' , age =  35)\n",
    "e1"
   ]
  },
  {
   "cell_type": "code",
   "execution_count": 84,
   "id": "249644f2",
   "metadata": {},
   "outputs": [],
   "source": [
    "e2 = employee(name = 'Pradip'  , age  = 30)"
   ]
  },
  {
   "cell_type": "code",
   "execution_count": 85,
   "id": "ccfa4d4e",
   "metadata": {},
   "outputs": [
    {
     "data": {
      "text/plain": [
       "'TCS'"
      ]
     },
     "execution_count": 85,
     "metadata": {},
     "output_type": "execute_result"
    }
   ],
   "source": [
    "e1.company "
   ]
  },
  {
   "cell_type": "code",
   "execution_count": 86,
   "id": "a305542f",
   "metadata": {},
   "outputs": [
    {
     "data": {
      "text/plain": [
       "'TCS'"
      ]
     },
     "execution_count": 86,
     "metadata": {},
     "output_type": "execute_result"
    }
   ],
   "source": [
    "e2.company "
   ]
  },
  {
   "cell_type": "code",
   "execution_count": 5,
   "id": "025abd6a",
   "metadata": {},
   "outputs": [],
   "source": [
    "# data class\n",
    "from dataclasses import dataclass"
   ]
  },
  {
   "cell_type": "code",
   "execution_count": 7,
   "id": "f63d323d",
   "metadata": {},
   "outputs": [],
   "source": [
    "from typing import Literal , List"
   ]
  },
  {
   "cell_type": "code",
   "execution_count": 2,
   "id": "0194dbb8",
   "metadata": {},
   "outputs": [],
   "source": [
    "# student  -  nam e, gender , marks  , hobbies"
   ]
  },
  {
   "cell_type": "code",
   "execution_count": 9,
   "id": "87bc9f6c",
   "metadata": {},
   "outputs": [],
   "source": [
    "@dataclass\n",
    "class  Student :\n",
    "    name : str\n",
    "    gender  : Literal['Male' , 'Female']\n",
    "    marks : float\n",
    "    Hobbies : List[str]\n",
    "\n",
    "    def get_info(self):\n",
    "        print(f'I am {self.name}')\n",
    "        print(f\"i am {self.gender}\")\n",
    "        print(f\"Marks i got {self.marks}\")\n",
    "        print(f\"my hobbies are {self.Hobbies}\")"
   ]
  },
  {
   "cell_type": "code",
   "execution_count": 11,
   "id": "35264160",
   "metadata": {},
   "outputs": [],
   "source": [
    "s1  =  Student(name = 'Akash' , gender = 'Male' , marks= 78.88 , Hobbies= 'swimming') "
   ]
  },
  {
   "cell_type": "code",
   "execution_count": 15,
   "id": "b67d04d6",
   "metadata": {},
   "outputs": [
    {
     "data": {
      "text/plain": [
       "Student(name='Akash', gender='Male', marks=78.88, Hobbies='swimming')"
      ]
     },
     "execution_count": 15,
     "metadata": {},
     "output_type": "execute_result"
    }
   ],
   "source": [
    "s1"
   ]
  },
  {
   "cell_type": "code",
   "execution_count": 12,
   "id": "350609ff",
   "metadata": {},
   "outputs": [
    {
     "data": {
      "text/plain": [
       "'Akash'"
      ]
     },
     "execution_count": 12,
     "metadata": {},
     "output_type": "execute_result"
    }
   ],
   "source": [
    "s1.name"
   ]
  },
  {
   "cell_type": "code",
   "execution_count": 13,
   "id": "5205d9b7",
   "metadata": {},
   "outputs": [
    {
     "data": {
      "text/plain": [
       "'Male'"
      ]
     },
     "execution_count": 13,
     "metadata": {},
     "output_type": "execute_result"
    }
   ],
   "source": [
    "s1.gender"
   ]
  },
  {
   "cell_type": "code",
   "execution_count": 14,
   "id": "f89d93b4",
   "metadata": {},
   "outputs": [
    {
     "data": {
      "text/plain": [
       "'swimming'"
      ]
     },
     "execution_count": 14,
     "metadata": {},
     "output_type": "execute_result"
    }
   ],
   "source": [
    "s1.Hobbies"
   ]
  },
  {
   "cell_type": "code",
   "execution_count": 19,
   "id": "5a496ad3",
   "metadata": {},
   "outputs": [],
   "source": [
    "s2  = Student(name = 'rakesh' , gender = 'Male' , Hobbies= ['swimming'  , 'Reading'] , marks  =  65.4)"
   ]
  },
  {
   "cell_type": "code",
   "execution_count": 20,
   "id": "7b55db18",
   "metadata": {},
   "outputs": [
    {
     "data": {
      "text/plain": [
       "Student(name='rakesh', gender='Male', marks=65.4, Hobbies=['swimming', 'Reading'])"
      ]
     },
     "execution_count": 20,
     "metadata": {},
     "output_type": "execute_result"
    }
   ],
   "source": [
    "s2"
   ]
  },
  {
   "cell_type": "code",
   "execution_count": 21,
   "id": "1ab6d6ae",
   "metadata": {},
   "outputs": [
    {
     "data": {
      "text/plain": [
       "'rakesh'"
      ]
     },
     "execution_count": 21,
     "metadata": {},
     "output_type": "execute_result"
    }
   ],
   "source": [
    "s2.name"
   ]
  },
  {
   "cell_type": "code",
   "execution_count": 23,
   "id": "1172c06c",
   "metadata": {},
   "outputs": [
    {
     "data": {
      "text/plain": [
       "65.4"
      ]
     },
     "execution_count": 23,
     "metadata": {},
     "output_type": "execute_result"
    }
   ],
   "source": [
    "s2.marks"
   ]
  },
  {
   "cell_type": "code",
   "execution_count": 24,
   "id": "a589d262",
   "metadata": {},
   "outputs": [
    {
     "data": {
      "text/plain": [
       "['swimming', 'Reading']"
      ]
     },
     "execution_count": 24,
     "metadata": {},
     "output_type": "execute_result"
    }
   ],
   "source": [
    "s2.Hobbies"
   ]
  },
  {
   "cell_type": "code",
   "execution_count": null,
   "id": "e21778a4",
   "metadata": {},
   "outputs": [],
   "source": [
    "# create class for bak transaction \n",
    "- check balance \n",
    "-  deposit\n",
    "-  withdraw\n",
    "-  transfer"
   ]
  },
  {
   "cell_type": "code",
   "execution_count": 112,
   "id": "e3fd42c6",
   "metadata": {},
   "outputs": [],
   "source": [
    "@dataclass\n",
    "class Account:\n",
    "    acc_name :  str\n",
    "    acc_no  :  int\n",
    "    bal : float\n",
    "\n",
    "    # creat method for checking balance\n",
    "    def check_balance(self):\n",
    "        print(f\"Current balance  account number  {self.acc_no}  is {self.bal}\")\n",
    "\n",
    "    def deposit(self , amt : float):\n",
    "        self.bal  =  self.bal + amt\n",
    "        print(f\"Amount of {amt} is deposited in {self.acc_no} \")\n",
    "        self.check_balance()\n",
    "    \n",
    "    # withdraw amount\n",
    "\n",
    "    def withdraw(self , amt : float):\n",
    "        if self.bal<amt:\n",
    "            raise ValueError('insufficient balance')\n",
    "        else:\n",
    "            self.bal  =  self.bal - amt\n",
    "            print(f'Amount of {amt} is deducted from  {self.acc_no}')\n",
    "            self.check_balance()\n",
    "        \n",
    "    def transfer(self , amt : int|float  , ac =  'Account'):\n",
    "        self.withdraw(amt)\n",
    "        ac.deposit(amt)\n",
    "       \n",
    "        \n"
   ]
  },
  {
   "cell_type": "code",
   "execution_count": 113,
   "id": "5dc52cc2",
   "metadata": {},
   "outputs": [],
   "source": [
    "ac1  = Account('sarthak' ,  123 ,  2000)"
   ]
  },
  {
   "cell_type": "code",
   "execution_count": 114,
   "id": "6fdddb6a",
   "metadata": {},
   "outputs": [
    {
     "name": "stdout",
     "output_type": "stream",
     "text": [
      "Current balance  account number  123  is 2000\n"
     ]
    }
   ],
   "source": [
    "ac1.check_balance()"
   ]
  },
  {
   "cell_type": "code",
   "execution_count": 115,
   "id": "c7579a06",
   "metadata": {},
   "outputs": [
    {
     "name": "stdout",
     "output_type": "stream",
     "text": [
      "Amount of 2500 is deposited in 123 \n",
      "Current balance  account number  123  is 4500\n"
     ]
    }
   ],
   "source": [
    "ac1.deposit(2500)"
   ]
  },
  {
   "cell_type": "code",
   "execution_count": 116,
   "id": "2553cc6f",
   "metadata": {},
   "outputs": [
    {
     "name": "stdout",
     "output_type": "stream",
     "text": [
      "Amount of 2000 is deducted from  123\n",
      "Current balance  account number  123  is 2500\n"
     ]
    }
   ],
   "source": [
    "ac1.withdraw(2000)"
   ]
  },
  {
   "cell_type": "code",
   "execution_count": 117,
   "id": "5b2d8bc2",
   "metadata": {},
   "outputs": [
    {
     "ename": "ValueError",
     "evalue": "insufficient balance",
     "output_type": "error",
     "traceback": [
      "\u001b[31m---------------------------------------------------------------------------\u001b[39m",
      "\u001b[31mValueError\u001b[39m                                Traceback (most recent call last)",
      "\u001b[36mCell\u001b[39m\u001b[36m \u001b[39m\u001b[32mIn[117]\u001b[39m\u001b[32m, line 1\u001b[39m\n\u001b[32m----> \u001b[39m\u001b[32m1\u001b[39m \u001b[43mac1\u001b[49m\u001b[43m.\u001b[49m\u001b[43mwithdraw\u001b[49m\u001b[43m(\u001b[49m\u001b[32;43m3000\u001b[39;49m\u001b[43m)\u001b[49m\n",
      "\u001b[36mCell\u001b[39m\u001b[36m \u001b[39m\u001b[32mIn[112]\u001b[39m\u001b[32m, line 20\u001b[39m, in \u001b[36mAccount.withdraw\u001b[39m\u001b[34m(self, amt)\u001b[39m\n\u001b[32m     18\u001b[39m \u001b[38;5;28;01mdef\u001b[39;00m\u001b[38;5;250m \u001b[39m\u001b[34mwithdraw\u001b[39m(\u001b[38;5;28mself\u001b[39m , amt : \u001b[38;5;28mfloat\u001b[39m):\n\u001b[32m     19\u001b[39m     \u001b[38;5;28;01mif\u001b[39;00m \u001b[38;5;28mself\u001b[39m.bal<amt:\n\u001b[32m---> \u001b[39m\u001b[32m20\u001b[39m         \u001b[38;5;28;01mraise\u001b[39;00m \u001b[38;5;167;01mValueError\u001b[39;00m(\u001b[33m'\u001b[39m\u001b[33minsufficient balance\u001b[39m\u001b[33m'\u001b[39m)\n\u001b[32m     21\u001b[39m     \u001b[38;5;28;01melse\u001b[39;00m:\n\u001b[32m     22\u001b[39m         \u001b[38;5;28mself\u001b[39m.bal  =  \u001b[38;5;28mself\u001b[39m.bal - amt\n",
      "\u001b[31mValueError\u001b[39m: insufficient balance"
     ]
    }
   ],
   "source": [
    "ac1.withdraw(3000)"
   ]
  },
  {
   "cell_type": "code",
   "execution_count": 121,
   "id": "0381e777",
   "metadata": {},
   "outputs": [],
   "source": [
    "ac2  =  Account(acc_name= 'pradip' , acc_no= 234 , bal= 0)"
   ]
  },
  {
   "cell_type": "code",
   "execution_count": 122,
   "id": "e48b7179",
   "metadata": {},
   "outputs": [
    {
     "name": "stdout",
     "output_type": "stream",
     "text": [
      "Current balance  account number  123  is 2450.0\n"
     ]
    }
   ],
   "source": [
    "ac1.check_balance()"
   ]
  },
  {
   "cell_type": "code",
   "execution_count": 125,
   "id": "b9d644e4",
   "metadata": {},
   "outputs": [
    {
     "name": "stdout",
     "output_type": "stream",
     "text": [
      "Current balance  account number  123  is 4450.0\n",
      "Amount of 2000 is deposited in 123 \n",
      "Current balance  account number  123  is 6450.0\n",
      "Amount of 2000 is deducted from  123\n",
      "Current balance  account number  123  is 4450.0\n"
     ]
    }
   ],
   "source": [
    "ac1.check_balance()\n",
    "ac1.deposit(2000)\n",
    "ac1.withdraw(2000)"
   ]
  },
  {
   "cell_type": "code",
   "execution_count": 129,
   "id": "533dbf82",
   "metadata": {},
   "outputs": [
    {
     "name": "stdout",
     "output_type": "stream",
     "text": [
      "Current balance  account number  234  is 2000\n",
      "Amount of 2000 is deposited in 234 \n",
      "Current balance  account number  234  is 4000\n",
      "Amount of 1000 is deducted from  234\n",
      "Current balance  account number  234  is 3000\n"
     ]
    }
   ],
   "source": [
    "ac2\n",
    "ac2.check_balance()\n",
    "ac2.deposit(2000)\n",
    "ac2.withdraw(1000)"
   ]
  },
  {
   "cell_type": "code",
   "execution_count": 131,
   "id": "4f1c31c4",
   "metadata": {},
   "outputs": [
    {
     "name": "stdout",
     "output_type": "stream",
     "text": [
      "Amount of 300 is deducted from  234\n",
      "Current balance  account number  234  is 2400\n",
      "Amount of 300 is deposited in 123 \n",
      "Current balance  account number  123  is 4750.0\n"
     ]
    }
   ],
   "source": [
    "ac2.transfer(300 ,ac = ac1 )"
   ]
  },
  {
   "cell_type": "code",
   "execution_count": null,
   "id": "baf415ad",
   "metadata": {},
   "outputs": [],
   "source": [
    "@dataclass\n",
    "class Account:\n",
    "    ac_no : int\n",
    "    ac_name : str\n",
    "    bal : int | float\n",
    "\n",
    "    def check_balance(self):\n",
    "        print(f'Current Account balance is {self.bal}')\n",
    "\n",
    "    def deposit(self  , amt : int ):\n",
    "        print(f'Amount of {amt} is deposited in account {self.ac_no}')\n",
    "        self.bal = self.bal+amt\n",
    "        self.check_balance()\n",
    "\n",
    "    def withdraw(self , amt : int|float):\n",
    "        if self.bal < amt:\n",
    "            raise ValueError('Insufficiant balance')\n",
    "        else:\n",
    "            self.bal = self.bal - amt\n",
    "            print(f'Amount of {amt} withdrawed from {self.ac_no}')\n",
    "            self.check_balance()\n",
    "\n",
    "    def transfer(self  ,  amt : int|float , ac = 'Account'):\n",
    "        self.withdraw(amt)\n",
    "        ac.deposit(amt)"
   ]
  },
  {
   "cell_type": "code",
   "execution_count": null,
   "id": "8b85ece2",
   "metadata": {},
   "outputs": [],
   "source": []
  }
 ],
 "metadata": {
  "kernelspec": {
   "display_name": "venv",
   "language": "python",
   "name": "python3"
  },
  "language_info": {
   "codemirror_mode": {
    "name": "ipython",
    "version": 3
   },
   "file_extension": ".py",
   "mimetype": "text/x-python",
   "name": "python",
   "nbconvert_exporter": "python",
   "pygments_lexer": "ipython3",
   "version": "3.13.5"
  }
 },
 "nbformat": 4,
 "nbformat_minor": 5
}
