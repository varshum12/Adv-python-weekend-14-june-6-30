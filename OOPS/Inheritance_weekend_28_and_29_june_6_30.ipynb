{
  "nbformat": 4,
  "nbformat_minor": 0,
  "metadata": {
    "colab": {
      "provenance": []
    },
    "kernelspec": {
      "name": "python3",
      "display_name": "Python 3"
    },
    "language_info": {
      "name": "python"
    }
  },
  "cells": [
    {
      "cell_type": "code",
      "execution_count": null,
      "metadata": {
        "id": "YB64qzqoeDbu"
      },
      "outputs": [],
      "source": []
    },
    {
      "cell_type": "markdown",
      "source": [
        "![image.png](data:image/png;base64,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)"
      ],
      "metadata": {
        "id": "dNBkV1GkfM2E"
      }
    },
    {
      "cell_type": "code",
      "source": [
        "from dataclasses import dataclass"
      ],
      "metadata": {
        "id": "EoXYSOF3fN9Z"
      },
      "execution_count": null,
      "outputs": []
    },
    {
      "cell_type": "code",
      "source": [
        "@dataclass\n",
        "class Triangle :\n",
        "  s1 :  int|float\n",
        "  s2 : int|float\n",
        "  s3  : int|float\n",
        "\n",
        "  def is_triangle(self):\n",
        "    if (self.s1 + self.s2  >  self.s3) and  (self.s2+self.s3 > self.s1) and  (self.s1 + self.s3 > self.s2) :\n",
        "      return  True\n",
        "\n",
        "    else:\n",
        "      return f\"Triangle is not formed\"\n",
        "\n",
        "\n",
        "  def perimeter(self):\n",
        "    if self.is_triangle() == True:\n",
        "      p  =  self.s1 + self.s2 +self.s3\n",
        "      return p\n",
        "\n",
        "\n",
        "  def Area(self):\n",
        "    if self.perimeter() is not None :\n",
        "      s  =  self.perimeter()/2\n",
        "      area  =  (s*(s-self.s1)*(s-self.s2)*(s-self.s3))**1/2\n",
        "      return area\n",
        "\n"
      ],
      "metadata": {
        "id": "7iUy_5erfeE3"
      },
      "execution_count": null,
      "outputs": []
    },
    {
      "cell_type": "code",
      "source": [
        "T1  = Triangle(23 , 45 , 56)"
      ],
      "metadata": {
        "id": "X_Xj7V1wg_Ru"
      },
      "execution_count": null,
      "outputs": []
    },
    {
      "cell_type": "code",
      "source": [
        "T1.is_triangle()"
      ],
      "metadata": {
        "colab": {
          "base_uri": "https://localhost:8080/"
        },
        "id": "vnGHagguhIwH",
        "outputId": "ec3fcfbc-412c-410d-d134-7f134708ce7f"
      },
      "execution_count": null,
      "outputs": [
        {
          "output_type": "execute_result",
          "data": {
            "text/plain": [
              "True"
            ]
          },
          "metadata": {},
          "execution_count": 28
        }
      ]
    },
    {
      "cell_type": "code",
      "source": [
        "T1.perimeter()"
      ],
      "metadata": {
        "colab": {
          "base_uri": "https://localhost:8080/"
        },
        "id": "dVIljPKXhO1V",
        "outputId": "723c506c-f13b-4c02-ba10-2c5ff032ad80"
      },
      "execution_count": null,
      "outputs": [
        {
          "output_type": "execute_result",
          "data": {
            "text/plain": [
              "124"
            ]
          },
          "metadata": {},
          "execution_count": 29
        }
      ]
    },
    {
      "cell_type": "code",
      "source": [
        "T1.Area()"
      ],
      "metadata": {
        "colab": {
          "base_uri": "https://localhost:8080/"
        },
        "id": "nntqxqtLjLQF",
        "outputId": "4f03e8db-0898-4965-f8c8-1e5c76c6c291"
      },
      "execution_count": null,
      "outputs": [
        {
          "output_type": "execute_result",
          "data": {
            "text/plain": [
              "123318.0"
            ]
          },
          "metadata": {},
          "execution_count": 33
        }
      ]
    },
    {
      "cell_type": "code",
      "source": [
        "T2  =  Triangle(13 , 16 , 2)"
      ],
      "metadata": {
        "id": "w5ugjDCUhzyn"
      },
      "execution_count": null,
      "outputs": []
    },
    {
      "cell_type": "code",
      "source": [
        "T2.is_triangle()"
      ],
      "metadata": {
        "colab": {
          "base_uri": "https://localhost:8080/",
          "height": 35
        },
        "id": "fcAKbM3AiWBK",
        "outputId": "689e9414-bafc-4338-b094-f617548d031e"
      },
      "execution_count": null,
      "outputs": [
        {
          "output_type": "execute_result",
          "data": {
            "text/plain": [
              "'Triangle is not formed'"
            ],
            "application/vnd.google.colaboratory.intrinsic+json": {
              "type": "string"
            }
          },
          "metadata": {},
          "execution_count": 31
        }
      ]
    },
    {
      "cell_type": "code",
      "source": [
        "print(T2.perimeter())"
      ],
      "metadata": {
        "colab": {
          "base_uri": "https://localhost:8080/"
        },
        "id": "pVqyzuFOiXr3",
        "outputId": "abebd896-f04b-4dc5-dd34-c82fe8c6c282"
      },
      "execution_count": null,
      "outputs": [
        {
          "output_type": "stream",
          "name": "stdout",
          "text": [
            "None\n"
          ]
        }
      ]
    },
    {
      "cell_type": "code",
      "source": [
        "T2.Area()"
      ],
      "metadata": {
        "id": "1siTlJzlieYn"
      },
      "execution_count": null,
      "outputs": []
    },
    {
      "cell_type": "code",
      "source": [
        "T1  = Triangle(23 , 45 , 56)\n",
        "T2  =  Triangle(2 , 3,4)\n",
        "T3  = Triangle(13 , 16 , 2)\n"
      ],
      "metadata": {
        "id": "WsPNGkDLjREW"
      },
      "execution_count": null,
      "outputs": []
    },
    {
      "cell_type": "code",
      "source": [
        "for i in [T1 , T2 , T3]:\n",
        "  print(i ,  i.is_triangle())\n",
        "  print(\"Perimeter\" ,  i.perimeter())\n",
        "  print(\"Area\" , i.Area())\n",
        "  print('-------------------------------------------------------------------------------------')"
      ],
      "metadata": {
        "colab": {
          "base_uri": "https://localhost:8080/"
        },
        "id": "EGUPJpgtjqW9",
        "outputId": "9cd1e9e3-57a8-45aa-88b4-9530733f17be"
      },
      "execution_count": null,
      "outputs": [
        {
          "output_type": "stream",
          "name": "stdout",
          "text": [
            "Triangle(s1=23, s2=45, s3=56) True\n",
            "Perimeter 124\n",
            "Area 123318.0\n",
            "-------------------------------------------------------------------------------------\n",
            "Triangle(s1=2, s2=3, s3=4) True\n",
            "Perimeter 9\n",
            "Area 4.21875\n",
            "-------------------------------------------------------------------------------------\n",
            "Triangle(s1=13, s2=16, s3=2) Triangle is not formed\n",
            "Perimeter None\n",
            "Area None\n",
            "-------------------------------------------------------------------------------------\n"
          ]
        }
      ]
    },
    {
      "cell_type": "code",
      "source": [
        "# create class for creating simple calculator , add , subtraction , multiplication , division"
      ],
      "metadata": {
        "id": "lLbF7G-5j8rB"
      },
      "execution_count": null,
      "outputs": []
    },
    {
      "cell_type": "code",
      "source": [
        "@dataclass\n",
        "class calculator:\n",
        "  x : int|float\n",
        "  y : int|float\n",
        "\n",
        "  def addition(self):\n",
        "    if isinstance(self.x , (int , float))  and isinstance(self.y , (int , float)):\n",
        "      return self.x+self.y\n",
        "\n",
        "  def subtraction(self):\n",
        "    if self.addition() is not None:\n",
        "      return self.x -  self.y\n",
        "\n",
        "  def product(self):\n",
        "    if self.addition() is not None:\n",
        "      return self.x*self.y\n",
        "\n",
        "\n",
        "  def division(self):\n",
        "    if self.y != 0:\n",
        "      return self.x/self.y\n",
        "    else:\n",
        "      raise ZeroDivisionError(\"Denominator should not be zero\")"
      ],
      "metadata": {
        "id": "b1Et6MuMkt_V"
      },
      "execution_count": null,
      "outputs": []
    },
    {
      "cell_type": "code",
      "source": [
        "o1  = calculator(12, 0)"
      ],
      "metadata": {
        "id": "rDSIMmJDlIG8"
      },
      "execution_count": null,
      "outputs": []
    },
    {
      "cell_type": "code",
      "source": [
        "o1.addition()\n",
        "o1.product()\n",
        "o1.subtraction()\n",
        "o1.division()"
      ],
      "metadata": {
        "colab": {
          "base_uri": "https://localhost:8080/",
          "height": 263
        },
        "id": "W_uG40czlNJa",
        "outputId": "430b6d07-d7c7-419f-bafc-0617aaa9d4a0"
      },
      "execution_count": null,
      "outputs": [
        {
          "output_type": "error",
          "ename": "ZeroDivisionError",
          "evalue": "Denominator should not be zero",
          "traceback": [
            "\u001b[0;31m---------------------------------------------------------------------------\u001b[0m",
            "\u001b[0;31mZeroDivisionError\u001b[0m                         Traceback (most recent call last)",
            "\u001b[0;32m/tmp/ipython-input-64-1000594259.py\u001b[0m in \u001b[0;36m<cell line: 0>\u001b[0;34m()\u001b[0m\n\u001b[1;32m      2\u001b[0m \u001b[0mo1\u001b[0m\u001b[0;34m.\u001b[0m\u001b[0mproduct\u001b[0m\u001b[0;34m(\u001b[0m\u001b[0;34m)\u001b[0m\u001b[0;34m\u001b[0m\u001b[0;34m\u001b[0m\u001b[0m\n\u001b[1;32m      3\u001b[0m \u001b[0mo1\u001b[0m\u001b[0;34m.\u001b[0m\u001b[0msubtraction\u001b[0m\u001b[0;34m(\u001b[0m\u001b[0;34m)\u001b[0m\u001b[0;34m\u001b[0m\u001b[0;34m\u001b[0m\u001b[0m\n\u001b[0;32m----> 4\u001b[0;31m \u001b[0mo1\u001b[0m\u001b[0;34m.\u001b[0m\u001b[0mdivision\u001b[0m\u001b[0;34m(\u001b[0m\u001b[0;34m)\u001b[0m\u001b[0;34m\u001b[0m\u001b[0;34m\u001b[0m\u001b[0m\n\u001b[0m",
            "\u001b[0;32m/tmp/ipython-input-62-522476406.py\u001b[0m in \u001b[0;36mdivision\u001b[0;34m(self)\u001b[0m\n\u001b[1;32m     21\u001b[0m       \u001b[0;32mreturn\u001b[0m \u001b[0mself\u001b[0m\u001b[0;34m.\u001b[0m\u001b[0mx\u001b[0m\u001b[0;34m/\u001b[0m\u001b[0mself\u001b[0m\u001b[0;34m.\u001b[0m\u001b[0my\u001b[0m\u001b[0;34m\u001b[0m\u001b[0;34m\u001b[0m\u001b[0m\n\u001b[1;32m     22\u001b[0m     \u001b[0;32melse\u001b[0m\u001b[0;34m:\u001b[0m\u001b[0;34m\u001b[0m\u001b[0;34m\u001b[0m\u001b[0m\n\u001b[0;32m---> 23\u001b[0;31m       \u001b[0;32mraise\u001b[0m \u001b[0mZeroDivisionError\u001b[0m\u001b[0;34m(\u001b[0m\u001b[0;34m\"Denominator should not be zero\"\u001b[0m\u001b[0;34m)\u001b[0m\u001b[0;34m\u001b[0m\u001b[0;34m\u001b[0m\u001b[0m\n\u001b[0m",
            "\u001b[0;31mZeroDivisionError\u001b[0m: Denominator should not be zero"
          ]
        }
      ]
    },
    {
      "cell_type": "code",
      "source": [
        "o2  = calculator('Sunita'  , 'nikam')"
      ],
      "metadata": {
        "id": "HrarbCJVlP8w"
      },
      "execution_count": null,
      "outputs": []
    },
    {
      "cell_type": "code",
      "source": [
        "o2.addition()"
      ],
      "metadata": {
        "id": "uS22B5HelWZT"
      },
      "execution_count": null,
      "outputs": []
    },
    {
      "cell_type": "code",
      "source": [],
      "metadata": {
        "colab": {
          "base_uri": "https://localhost:8080/",
          "height": 141
        },
        "id": "49VEKHcelXhT",
        "outputId": "3eb957d6-2b84-4195-c47d-67f46be12187"
      },
      "execution_count": null,
      "outputs": [
        {
          "output_type": "error",
          "ename": "ZeroDivisionError",
          "evalue": "division by zero",
          "traceback": [
            "\u001b[0;31m---------------------------------------------------------------------------\u001b[0m",
            "\u001b[0;31mZeroDivisionError\u001b[0m                         Traceback (most recent call last)",
            "\u001b[0;32m/tmp/ipython-input-51-2214808741.py\u001b[0m in \u001b[0;36m<cell line: 0>\u001b[0;34m()\u001b[0m\n\u001b[0;32m----> 1\u001b[0;31m \u001b[0;36m56\u001b[0m\u001b[0;34m/\u001b[0m\u001b[0;36m0\u001b[0m\u001b[0;34m\u001b[0m\u001b[0;34m\u001b[0m\u001b[0m\n\u001b[0m",
            "\u001b[0;31mZeroDivisionError\u001b[0m: division by zero"
          ]
        }
      ]
    },
    {
      "cell_type": "code",
      "source": [
        "###"
      ],
      "metadata": {
        "id": "qjCcM0OvmGBq"
      },
      "execution_count": null,
      "outputs": []
    },
    {
      "cell_type": "markdown",
      "source": [
        "# Inheritance"
      ],
      "metadata": {
        "id": "m5ponLveouS8"
      }
    },
    {
      "cell_type": "code",
      "source": [
        "class Person:\n",
        "  def __init__(self,  name  , age):\n",
        "    self.name =  name\n",
        "    self.age  = age\n",
        "  def introduce(self):\n",
        "    return f\"My name is {self.name}  and I am {self.age} years old\"\n",
        "\n",
        "# add child class\n",
        "class employee(Person):\n",
        "  def __init__(self , name , age , company):\n",
        "    super().__init__(name , age)\n",
        "    self.company = company\n",
        "\n",
        "\n",
        "\n"
      ],
      "metadata": {
        "id": "Vk-8tpFbpMc5"
      },
      "execution_count": null,
      "outputs": []
    },
    {
      "cell_type": "code",
      "source": [
        "P1  =  Person(name  = 'sunita' , age  = 26)"
      ],
      "metadata": {
        "id": "GCI73EakprBG"
      },
      "execution_count": null,
      "outputs": []
    },
    {
      "cell_type": "code",
      "source": [
        "P1.age"
      ],
      "metadata": {
        "colab": {
          "base_uri": "https://localhost:8080/"
        },
        "id": "k6p9Ot1Zpy5U",
        "outputId": "15402d96-50ea-4fd0-9de3-0f4b5da0c31a"
      },
      "execution_count": null,
      "outputs": [
        {
          "output_type": "execute_result",
          "data": {
            "text/plain": [
              "26"
            ]
          },
          "metadata": {},
          "execution_count": 79
        }
      ]
    },
    {
      "cell_type": "code",
      "source": [
        "P1.name"
      ],
      "metadata": {
        "colab": {
          "base_uri": "https://localhost:8080/",
          "height": 35
        },
        "id": "tV_GMYlvp49H",
        "outputId": "03281b90-ba3d-4680-8cf8-5f0f518e7823"
      },
      "execution_count": null,
      "outputs": [
        {
          "output_type": "execute_result",
          "data": {
            "text/plain": [
              "'sunita'"
            ],
            "application/vnd.google.colaboratory.intrinsic+json": {
              "type": "string"
            }
          },
          "metadata": {},
          "execution_count": 80
        }
      ]
    },
    {
      "cell_type": "code",
      "source": [
        "P1.introduce()"
      ],
      "metadata": {
        "colab": {
          "base_uri": "https://localhost:8080/",
          "height": 35
        },
        "id": "AclMbbH1p73j",
        "outputId": "8ee99780-c4ec-465f-bb95-2a368c53fac2"
      },
      "execution_count": null,
      "outputs": [
        {
          "output_type": "execute_result",
          "data": {
            "text/plain": [
              "'My name is sunita  and I am 26 years old'"
            ],
            "application/vnd.google.colaboratory.intrinsic+json": {
              "type": "string"
            }
          },
          "metadata": {},
          "execution_count": 81
        }
      ]
    },
    {
      "cell_type": "code",
      "source": [
        "P1.company"
      ],
      "metadata": {
        "colab": {
          "base_uri": "https://localhost:8080/",
          "height": 141
        },
        "id": "I0UW0fwVqlDG",
        "outputId": "fbb96d9a-8dce-4064-84ae-8eb3ca816dd2"
      },
      "execution_count": null,
      "outputs": [
        {
          "output_type": "error",
          "ename": "AttributeError",
          "evalue": "'Person' object has no attribute 'company'",
          "traceback": [
            "\u001b[0;31m---------------------------------------------------------------------------\u001b[0m",
            "\u001b[0;31mAttributeError\u001b[0m                            Traceback (most recent call last)",
            "\u001b[0;32m/tmp/ipython-input-82-1245969676.py\u001b[0m in \u001b[0;36m<cell line: 0>\u001b[0;34m()\u001b[0m\n\u001b[0;32m----> 1\u001b[0;31m \u001b[0mP1\u001b[0m\u001b[0;34m.\u001b[0m\u001b[0mcompany\u001b[0m\u001b[0;34m\u001b[0m\u001b[0;34m\u001b[0m\u001b[0m\n\u001b[0m",
            "\u001b[0;31mAttributeError\u001b[0m: 'Person' object has no attribute 'company'"
          ]
        }
      ]
    },
    {
      "cell_type": "code",
      "source": [
        "e1  =  employee(name  =  'Prasad' , age  =  25  , company  ='TCS')"
      ],
      "metadata": {
        "id": "5h9ZW79Wq0iq"
      },
      "execution_count": null,
      "outputs": []
    },
    {
      "cell_type": "code",
      "source": [
        "print(e1.name)\n",
        "print(e1.company)\n",
        "print(e1.introduce())"
      ],
      "metadata": {
        "colab": {
          "base_uri": "https://localhost:8080/"
        },
        "id": "OuG1ITB2rBHF",
        "outputId": "a373af0c-618c-488a-d0f0-b8dca55790ee"
      },
      "execution_count": null,
      "outputs": [
        {
          "output_type": "stream",
          "name": "stdout",
          "text": [
            "Prasad\n",
            "TCS\n",
            "My name is Prasad  and I am 25 years old\n"
          ]
        }
      ]
    },
    {
      "cell_type": "code",
      "source": [
        "P2  =  Person(name  = 'nita' , age  = 23)"
      ],
      "metadata": {
        "id": "9vvFKNS-p9sy"
      },
      "execution_count": null,
      "outputs": []
    },
    {
      "cell_type": "code",
      "source": [
        "P2.name"
      ],
      "metadata": {
        "colab": {
          "base_uri": "https://localhost:8080/",
          "height": 35
        },
        "id": "cGmgGB_NqD8c",
        "outputId": "2b0bf921-2eef-4431-c64b-672708242b58"
      },
      "execution_count": null,
      "outputs": [
        {
          "output_type": "execute_result",
          "data": {
            "text/plain": [
              "'nita'"
            ],
            "application/vnd.google.colaboratory.intrinsic+json": {
              "type": "string"
            }
          },
          "metadata": {},
          "execution_count": 73
        }
      ]
    },
    {
      "cell_type": "code",
      "source": [
        "class Person:\n",
        "  def __init__(self,  name  , age):\n",
        "    self.name =  name\n",
        "    self.age  = age\n",
        "  def introduce(self):\n",
        "    return  (f\"My name is {self.name}  and I am {self.age} years old\")\n",
        "\n",
        "# add child class\n",
        "class employee(Person):\n",
        "  def __init__(self , name , age , company):\n",
        "    super().__init__(name , age)\n",
        "    self.company = company\n",
        "\n",
        "  def work(self):\n",
        "    print(super().introduce())\n",
        "    print(f\"   I work for {self.company}\")\n"
      ],
      "metadata": {
        "id": "zGmidsB3qFcg"
      },
      "execution_count": null,
      "outputs": []
    },
    {
      "cell_type": "code",
      "source": [
        "print(23)\n",
        "print('24')"
      ],
      "metadata": {
        "colab": {
          "base_uri": "https://localhost:8080/"
        },
        "id": "DLwwppR5xKbW",
        "outputId": "a61d5157-bcf3-4e6d-8ec9-cc06bbf3a88e"
      },
      "execution_count": null,
      "outputs": [
        {
          "output_type": "stream",
          "name": "stdout",
          "text": [
            "23\n",
            "24\n"
          ]
        }
      ]
    },
    {
      "cell_type": "code",
      "source": [
        "e2  =  employee(name  = 'Kiran' , age  = 29 , company='LMS')"
      ],
      "metadata": {
        "id": "12qbhEfCrnXl"
      },
      "execution_count": null,
      "outputs": []
    },
    {
      "cell_type": "code",
      "source": [
        "\n",
        "e2.work()"
      ],
      "metadata": {
        "colab": {
          "base_uri": "https://localhost:8080/"
        },
        "id": "0cf3hb2EryAG",
        "outputId": "79499be7-03cb-4576-f0a3-980bc48c642e"
      },
      "execution_count": null,
      "outputs": [
        {
          "output_type": "stream",
          "name": "stdout",
          "text": [
            "My name is Kiran  and I am 29 years old\n",
            "   I work for LMS\n"
          ]
        }
      ]
    },
    {
      "cell_type": "code",
      "source": [
        "e2.introduce()"
      ],
      "metadata": {
        "colab": {
          "base_uri": "https://localhost:8080/",
          "height": 35
        },
        "id": "xzwmskKJttEO",
        "outputId": "8f5dc877-d1d2-42fb-f349-bb32f052aef6"
      },
      "execution_count": null,
      "outputs": [
        {
          "output_type": "execute_result",
          "data": {
            "text/plain": [
              "'My name is Kiran  and I am 29 years old'"
            ],
            "application/vnd.google.colaboratory.intrinsic+json": {
              "type": "string"
            }
          },
          "metadata": {},
          "execution_count": 157
        }
      ]
    },
    {
      "cell_type": "code",
      "source": [
        "p1  =  Person(name  = 'Akash' , age  = 26 )\n",
        "p1.name\n",
        "p1.age"
      ],
      "metadata": {
        "colab": {
          "base_uri": "https://localhost:8080/"
        },
        "id": "OiPvKbUquNQA",
        "outputId": "9a3cc5c8-e16f-4dd4-8830-faead2077b86"
      },
      "execution_count": null,
      "outputs": [
        {
          "output_type": "execute_result",
          "data": {
            "text/plain": [
              "26"
            ]
          },
          "metadata": {},
          "execution_count": 118
        }
      ]
    },
    {
      "cell_type": "code",
      "source": [
        "p1.work()"
      ],
      "metadata": {
        "colab": {
          "base_uri": "https://localhost:8080/",
          "height": 141
        },
        "id": "S7I9j4fsun6T",
        "outputId": "7f2441bf-e351-4125-89b9-ce77fdf6dbd9"
      },
      "execution_count": null,
      "outputs": [
        {
          "output_type": "error",
          "ename": "AttributeError",
          "evalue": "'Person' object has no attribute 'work'",
          "traceback": [
            "\u001b[0;31m---------------------------------------------------------------------------\u001b[0m",
            "\u001b[0;31mAttributeError\u001b[0m                            Traceback (most recent call last)",
            "\u001b[0;32m/tmp/ipython-input-119-3278331874.py\u001b[0m in \u001b[0;36m<cell line: 0>\u001b[0;34m()\u001b[0m\n\u001b[0;32m----> 1\u001b[0;31m \u001b[0mp1\u001b[0m\u001b[0;34m.\u001b[0m\u001b[0mwork\u001b[0m\u001b[0;34m(\u001b[0m\u001b[0;34m)\u001b[0m\u001b[0;34m\u001b[0m\u001b[0;34m\u001b[0m\u001b[0m\n\u001b[0m",
            "\u001b[0;31mAttributeError\u001b[0m: 'Person' object has no attribute 'work'"
          ]
        }
      ]
    },
    {
      "cell_type": "markdown",
      "source": [
        "# Multilevel inheritance"
      ],
      "metadata": {
        "id": "h4cGd3kLvAGT"
      }
    },
    {
      "cell_type": "code",
      "source": [
        "from collections.abc import AsyncGenerator\n",
        "class Employee:\n",
        "  def __init__(self , name , id):\n",
        "    self.name  = name\n",
        "    self.id  =  id\n",
        "\n",
        "  def get_employee_info(self):\n",
        "    return(f\"Name :{self.name}  , Id : {self.id}\")\n",
        "\n",
        "\n",
        "# Child Class  Manager\n",
        "\n",
        "class Manager(Employee):\n",
        "  def __init__(self , name ,  id , department):\n",
        "    super().__init__(name  , id )\n",
        "    self.department =  department\n",
        "\n",
        "\n",
        "  def get_manager_info(self):\n",
        "    return ( f\" {super().get_employee_info()} , department : {self.department} \")\n",
        "\n",
        "\n",
        "\n",
        "# Grand Child CLass\n",
        "\n",
        "class Project_manager(Manager):\n",
        "  def __init__(self , name , id , department  ,  project):\n",
        "    super().__init__(name , id , department)\n",
        "    self.Project =  project\n",
        "\n",
        "\n",
        "  def get_Project_manager_info(self) :\n",
        "    return ( f\" {super().get_manager_info()} , Project : {self.Project} \")\n"
      ],
      "metadata": {
        "id": "q8iU0xIhusBt"
      },
      "execution_count": null,
      "outputs": []
    },
    {
      "cell_type": "code",
      "source": [
        "E1 = Employee(name = 'Suresh' , id = 123)"
      ],
      "metadata": {
        "id": "sbCFjKVgy9ue"
      },
      "execution_count": null,
      "outputs": []
    },
    {
      "cell_type": "code",
      "source": [],
      "metadata": {
        "id": "FeoBvC_D1J4A"
      },
      "execution_count": null,
      "outputs": []
    },
    {
      "cell_type": "code",
      "source": [
        "E1.name\n",
        "E1.id"
      ],
      "metadata": {
        "colab": {
          "base_uri": "https://localhost:8080/"
        },
        "id": "DBmAi1r1zD7v",
        "outputId": "0d6182a0-37f2-478e-94b8-179609d548e1"
      },
      "execution_count": null,
      "outputs": [
        {
          "output_type": "execute_result",
          "data": {
            "text/plain": [
              "123"
            ]
          },
          "metadata": {},
          "execution_count": 227
        }
      ]
    },
    {
      "cell_type": "code",
      "source": [
        "M1 = Manager(name  = 'Umesh' , id = 12 , department= 'IT')"
      ],
      "metadata": {
        "id": "9nH0OLw3zFKV"
      },
      "execution_count": null,
      "outputs": []
    },
    {
      "cell_type": "code",
      "source": [
        "M1.department"
      ],
      "metadata": {
        "colab": {
          "base_uri": "https://localhost:8080/",
          "height": 35
        },
        "id": "pGhJL1ZKzSbi",
        "outputId": "82610d0d-511a-4451-f8c0-2121665c9110"
      },
      "execution_count": null,
      "outputs": [
        {
          "output_type": "execute_result",
          "data": {
            "text/plain": [
              "'IT'"
            ],
            "application/vnd.google.colaboratory.intrinsic+json": {
              "type": "string"
            }
          },
          "metadata": {},
          "execution_count": 229
        }
      ]
    },
    {
      "cell_type": "code",
      "source": [
        "M1.get_employee_info()"
      ],
      "metadata": {
        "colab": {
          "base_uri": "https://localhost:8080/",
          "height": 35
        },
        "id": "Ue_ips8szxP4",
        "outputId": "613c5d42-37d3-4ccc-9e84-74f8585c1752"
      },
      "execution_count": null,
      "outputs": [
        {
          "output_type": "execute_result",
          "data": {
            "text/plain": [
              "'Name :Umesh  , Id : 12'"
            ],
            "application/vnd.google.colaboratory.intrinsic+json": {
              "type": "string"
            }
          },
          "metadata": {},
          "execution_count": 230
        }
      ]
    },
    {
      "cell_type": "code",
      "source": [
        "M1.get_manager_info()"
      ],
      "metadata": {
        "colab": {
          "base_uri": "https://localhost:8080/",
          "height": 35
        },
        "id": "gNOJrt8gzzgs",
        "outputId": "c3d40de4-9367-47af-b2a3-678a04f5ef77"
      },
      "execution_count": null,
      "outputs": [
        {
          "output_type": "execute_result",
          "data": {
            "text/plain": [
              "' Name :Umesh  , Id : 12 , department : IT '"
            ],
            "application/vnd.google.colaboratory.intrinsic+json": {
              "type": "string"
            }
          },
          "metadata": {},
          "execution_count": 231
        }
      ]
    },
    {
      "cell_type": "code",
      "source": [
        "PM  =  Project_manager(name  = 'Sam'  , id  =  456 , department= 'DS' ,  project = 'House price prediction')"
      ],
      "metadata": {
        "id": "sQvgiRG2z27h"
      },
      "execution_count": null,
      "outputs": []
    },
    {
      "cell_type": "code",
      "source": [
        "PM.Project"
      ],
      "metadata": {
        "colab": {
          "base_uri": "https://localhost:8080/",
          "height": 35
        },
        "id": "NHlAe0xD1dnI",
        "outputId": "e9414f1d-f46f-4a51-da01-af8c0ff309e7"
      },
      "execution_count": null,
      "outputs": [
        {
          "output_type": "execute_result",
          "data": {
            "text/plain": [
              "'House price prediction'"
            ],
            "application/vnd.google.colaboratory.intrinsic+json": {
              "type": "string"
            }
          },
          "metadata": {},
          "execution_count": 233
        }
      ]
    },
    {
      "cell_type": "code",
      "source": [
        "PM.get_employee_info()\n"
      ],
      "metadata": {
        "colab": {
          "base_uri": "https://localhost:8080/",
          "height": 35
        },
        "id": "hfazeAdL17Z4",
        "outputId": "24e131aa-123d-4c79-866c-5c30806c2565"
      },
      "execution_count": null,
      "outputs": [
        {
          "output_type": "execute_result",
          "data": {
            "text/plain": [
              "'Name :Sam  , Id : 456'"
            ],
            "application/vnd.google.colaboratory.intrinsic+json": {
              "type": "string"
            }
          },
          "metadata": {},
          "execution_count": 234
        }
      ]
    },
    {
      "cell_type": "code",
      "source": [
        "PM.get_manager_info()"
      ],
      "metadata": {
        "colab": {
          "base_uri": "https://localhost:8080/",
          "height": 35
        },
        "id": "frPJMdZ51_TY",
        "outputId": "b012dc2c-b39b-4849-a9c6-93ff046f9c95"
      },
      "execution_count": null,
      "outputs": [
        {
          "output_type": "execute_result",
          "data": {
            "text/plain": [
              "' Name :Sam  , Id : 456 , department : DS '"
            ],
            "application/vnd.google.colaboratory.intrinsic+json": {
              "type": "string"
            }
          },
          "metadata": {},
          "execution_count": 235
        }
      ]
    },
    {
      "cell_type": "code",
      "source": [
        "PM.get_Project_manager_info()"
      ],
      "metadata": {
        "colab": {
          "base_uri": "https://localhost:8080/",
          "height": 35
        },
        "id": "PBEol9Fg2CdJ",
        "outputId": "bf35dd16-84e7-46c0-e936-bc03daf287f5"
      },
      "execution_count": null,
      "outputs": [
        {
          "output_type": "execute_result",
          "data": {
            "text/plain": [
              "'  Name :Sam  , Id : 456 , department : DS  , Project : House price prediction '"
            ],
            "application/vnd.google.colaboratory.intrinsic+json": {
              "type": "string"
            }
          },
          "metadata": {},
          "execution_count": 236
        }
      ]
    },
    {
      "cell_type": "code",
      "source": [],
      "metadata": {
        "id": "uPRIlSnB2dHZ"
      },
      "execution_count": null,
      "outputs": []
    },
    {
      "cell_type": "markdown",
      "source": [
        "![image.png](data:image/png;base64,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)"
      ],
      "metadata": {
        "id": "zaQLweDOtMDM"
      }
    },
    {
      "cell_type": "code",
      "source": [
        "from dataclasses import dataclass"
      ],
      "metadata": {
        "id": "G_DduA3xtYsg"
      },
      "execution_count": null,
      "outputs": []
    },
    {
      "cell_type": "code",
      "source": [
        "@dataclass\n",
        "class User:\n",
        "  name  :  str\n",
        "  email : str\n",
        "\n",
        "  def get_user_info(self):\n",
        "    return f\"name : {self.name} , email : {self.email}\"\n",
        "\n",
        "\n",
        "# create child class Admin\n",
        "class Admin(User) :\n",
        "  def __init__(self, name , email  , Access):\n",
        "    super().__init__(name , email)\n",
        "    self.Access =  Access\n",
        "\n",
        "  def get_Admin_info(self):\n",
        "    return(f\"{super().get_user_info()} , Access --> {self.Access}\")\n",
        "\n",
        "class RegularUser(User):\n",
        "  def __init__(self , name , email , Subscription):\n",
        "    super().__init__(name , email)\n",
        "    self.Subscription =  Subscription\n",
        "  def get_RegularUserInfo(self):\n",
        "    return(f\"{super().get_user_info()}   ,  Subscription--> {self.Subscription}\"  )\n",
        "\n"
      ],
      "metadata": {
        "id": "9phYML8due1R"
      },
      "execution_count": null,
      "outputs": []
    },
    {
      "cell_type": "code",
      "source": [
        "u1  =  User(name= 'sarthak' , email =  'sarthak@example.com')"
      ],
      "metadata": {
        "id": "rC_tapLowtTU"
      },
      "execution_count": null,
      "outputs": []
    },
    {
      "cell_type": "code",
      "source": [
        "u1.name"
      ],
      "metadata": {
        "colab": {
          "base_uri": "https://localhost:8080/",
          "height": 35
        },
        "id": "b0L-O2n1w04d",
        "outputId": "a72c3c41-78d2-47a3-9b60-4dfa00fc136d"
      },
      "execution_count": null,
      "outputs": [
        {
          "output_type": "execute_result",
          "data": {
            "text/plain": [
              "'sarthak'"
            ],
            "application/vnd.google.colaboratory.intrinsic+json": {
              "type": "string"
            }
          },
          "metadata": {},
          "execution_count": 4
        }
      ]
    },
    {
      "cell_type": "code",
      "source": [
        "u1.email"
      ],
      "metadata": {
        "colab": {
          "base_uri": "https://localhost:8080/",
          "height": 35
        },
        "id": "Bn5tmXuJw16x",
        "outputId": "11674d9d-c928-4207-9e5b-b45d89e81953"
      },
      "execution_count": null,
      "outputs": [
        {
          "output_type": "execute_result",
          "data": {
            "text/plain": [
              "'sarthak@example.com'"
            ],
            "application/vnd.google.colaboratory.intrinsic+json": {
              "type": "string"
            }
          },
          "metadata": {},
          "execution_count": 5
        }
      ]
    },
    {
      "cell_type": "code",
      "source": [
        "A1 =  Admin(name  = 'sujata' ,  email = 'sujata@example.com' , Access= \"partial\")"
      ],
      "metadata": {
        "id": "a5GgrbTjw3WF"
      },
      "execution_count": null,
      "outputs": []
    },
    {
      "cell_type": "code",
      "source": [
        "A1.name"
      ],
      "metadata": {
        "colab": {
          "base_uri": "https://localhost:8080/",
          "height": 35
        },
        "id": "bXSam1cZxJC6",
        "outputId": "61f186b2-7bc9-4c4e-bca7-4029d1dc560d"
      },
      "execution_count": null,
      "outputs": [
        {
          "output_type": "execute_result",
          "data": {
            "text/plain": [
              "'sujata'"
            ],
            "application/vnd.google.colaboratory.intrinsic+json": {
              "type": "string"
            }
          },
          "metadata": {},
          "execution_count": 7
        }
      ]
    },
    {
      "cell_type": "code",
      "source": [
        "A1.email"
      ],
      "metadata": {
        "colab": {
          "base_uri": "https://localhost:8080/",
          "height": 35
        },
        "id": "-wcXDt-ixKO5",
        "outputId": "b1b96731-1bdf-47b9-f1e3-beabadce65a8"
      },
      "execution_count": null,
      "outputs": [
        {
          "output_type": "execute_result",
          "data": {
            "text/plain": [
              "'sujata@example.com'"
            ],
            "application/vnd.google.colaboratory.intrinsic+json": {
              "type": "string"
            }
          },
          "metadata": {},
          "execution_count": 8
        }
      ]
    },
    {
      "cell_type": "code",
      "source": [
        "A1.get_user_info()"
      ],
      "metadata": {
        "colab": {
          "base_uri": "https://localhost:8080/",
          "height": 35
        },
        "id": "HedK0mErxLgE",
        "outputId": "5b3eebe2-dad5-4a30-cf8a-d7326098210c"
      },
      "execution_count": null,
      "outputs": [
        {
          "output_type": "execute_result",
          "data": {
            "text/plain": [
              "'name : sujata , email : sujata@example.com'"
            ],
            "application/vnd.google.colaboratory.intrinsic+json": {
              "type": "string"
            }
          },
          "metadata": {},
          "execution_count": 9
        }
      ]
    },
    {
      "cell_type": "code",
      "source": [
        "A1.get_Admin_info()"
      ],
      "metadata": {
        "colab": {
          "base_uri": "https://localhost:8080/",
          "height": 35
        },
        "id": "itXITXaPxPsR",
        "outputId": "99476cf8-64b5-4d58-a48e-6b12c5277331"
      },
      "execution_count": null,
      "outputs": [
        {
          "output_type": "execute_result",
          "data": {
            "text/plain": [
              "'name : sujata , email : sujata@example.com , Access --> partial'"
            ],
            "application/vnd.google.colaboratory.intrinsic+json": {
              "type": "string"
            }
          },
          "metadata": {},
          "execution_count": 10
        }
      ]
    },
    {
      "cell_type": "code",
      "source": [
        "RU1  = RegularUser(name  = 'Shikha' ,  email = 'shikha@example.com' ,  Subscription= True)"
      ],
      "metadata": {
        "id": "knRr-1t9xSe7"
      },
      "execution_count": null,
      "outputs": []
    },
    {
      "cell_type": "code",
      "source": [
        "RU1.get_RegularUserInfo()"
      ],
      "metadata": {
        "colab": {
          "base_uri": "https://localhost:8080/",
          "height": 35
        },
        "id": "_4_cH-Zpxflj",
        "outputId": "f03c7489-17d5-4485-f060-65a09f9936b9"
      },
      "execution_count": null,
      "outputs": [
        {
          "output_type": "execute_result",
          "data": {
            "text/plain": [
              "'name : Shikha , email : shikha@example.com   ,  Subscription--> True'"
            ],
            "application/vnd.google.colaboratory.intrinsic+json": {
              "type": "string"
            }
          },
          "metadata": {},
          "execution_count": 12
        }
      ]
    },
    {
      "cell_type": "code",
      "source": [],
      "metadata": {
        "id": "XWG0IDC4xiK1"
      },
      "execution_count": null,
      "outputs": []
    },
    {
      "cell_type": "markdown",
      "source": [
        "# Create student clas\n",
        "- name - str\n",
        "- roll num -  int\n",
        "- marks  - float\n",
        "- email  - emailstr\n",
        "- doj - date\n",
        "- hobbies -  list[str]"
      ],
      "metadata": {
        "id": "GVCOrYIpx4mA"
      }
    },
    {
      "cell_type": "code",
      "source": [
        "%pip install pydantic"
      ],
      "metadata": {
        "colab": {
          "base_uri": "https://localhost:8080/"
        },
        "id": "GaSvPt5OyNoK",
        "outputId": "ed0043d0-2bb6-43e3-82dc-d6577e5743ff"
      },
      "execution_count": null,
      "outputs": [
        {
          "output_type": "stream",
          "name": "stdout",
          "text": [
            "Requirement already satisfied: pydantic in /usr/local/lib/python3.11/dist-packages (2.11.7)\n",
            "Requirement already satisfied: annotated-types>=0.6.0 in /usr/local/lib/python3.11/dist-packages (from pydantic) (0.7.0)\n",
            "Requirement already satisfied: pydantic-core==2.33.2 in /usr/local/lib/python3.11/dist-packages (from pydantic) (2.33.2)\n",
            "Requirement already satisfied: typing-extensions>=4.12.2 in /usr/local/lib/python3.11/dist-packages (from pydantic) (4.14.0)\n",
            "Requirement already satisfied: typing-inspection>=0.4.0 in /usr/local/lib/python3.11/dist-packages (from pydantic) (0.4.1)\n"
          ]
        }
      ]
    },
    {
      "cell_type": "code",
      "source": [
        "%pip install pydantic email-validator"
      ],
      "metadata": {
        "colab": {
          "base_uri": "https://localhost:8080/"
        },
        "id": "ed80uA0vyZ6z",
        "outputId": "9d83e99a-0f7c-421a-a9ea-40753a1f2439"
      },
      "execution_count": null,
      "outputs": [
        {
          "output_type": "stream",
          "name": "stdout",
          "text": [
            "Requirement already satisfied: pydantic in /usr/local/lib/python3.11/dist-packages (2.11.7)\n",
            "Collecting email-validator\n",
            "  Downloading email_validator-2.2.0-py3-none-any.whl.metadata (25 kB)\n",
            "Requirement already satisfied: annotated-types>=0.6.0 in /usr/local/lib/python3.11/dist-packages (from pydantic) (0.7.0)\n",
            "Requirement already satisfied: pydantic-core==2.33.2 in /usr/local/lib/python3.11/dist-packages (from pydantic) (2.33.2)\n",
            "Requirement already satisfied: typing-extensions>=4.12.2 in /usr/local/lib/python3.11/dist-packages (from pydantic) (4.14.0)\n",
            "Requirement already satisfied: typing-inspection>=0.4.0 in /usr/local/lib/python3.11/dist-packages (from pydantic) (0.4.1)\n",
            "Collecting dnspython>=2.0.0 (from email-validator)\n",
            "  Downloading dnspython-2.7.0-py3-none-any.whl.metadata (5.8 kB)\n",
            "Requirement already satisfied: idna>=2.0.0 in /usr/local/lib/python3.11/dist-packages (from email-validator) (3.10)\n",
            "Downloading email_validator-2.2.0-py3-none-any.whl (33 kB)\n",
            "Downloading dnspython-2.7.0-py3-none-any.whl (313 kB)\n",
            "\u001b[2K   \u001b[90m━━━━━━━━━━━━━━━━━━━━━━━━━━━━━━━━━━━━━━━━\u001b[0m \u001b[32m313.6/313.6 kB\u001b[0m \u001b[31m23.2 MB/s\u001b[0m eta \u001b[36m0:00:00\u001b[0m\n",
            "\u001b[?25hInstalling collected packages: dnspython, email-validator\n",
            "Successfully installed dnspython-2.7.0 email-validator-2.2.0\n"
          ]
        }
      ]
    },
    {
      "cell_type": "code",
      "source": [
        "from pydantic import EmailStr , Field ,BaseModel\n",
        "from typing import List  , Literal\n",
        "from datetime import date"
      ],
      "metadata": {
        "id": "sMc5jZtEysVp"
      },
      "execution_count": null,
      "outputs": []
    },
    {
      "cell_type": "code",
      "source": [
        "class Student(BaseModel):\n",
        "  name : str =  Field(description= \"This is Student Name\")\n",
        "  roll_no : int =  Field(description= \"Inser roll number in int\" , gt = 0)\n",
        "  marks : float  =  Field(description= \"Please enter valid marks\" ,  gt =  0 ,  lt = 100  )\n",
        "  email : EmailStr = Field(description= \"please enter email here\" )\n",
        "  Gender : Literal['Male' , \"Female\"]\n",
        "  doj  : date =  Field(description = \"This is date at wich student has joined school\" , default= \"20-06-2025\")\n",
        "  Hobbies : List[str] =  Field(description= \"Hobbies\" ,  default_factory=  List)\n",
        "\n",
        "\n",
        "  def get_student_info(self):\n",
        "    print(f\"name --> {self.name}\")\n",
        "    print(f\"roll number --> {self.roll_no}\")\n",
        "    print(f\"marks --> {self.marks}\")\n",
        "    print(f\"email --> {self.email}\")\n",
        "    print(f\"Gender--> {self.Gender}\")\n",
        "    print(f\"date of joining --> {self.doj}\")\n",
        "    print(f\"Hobbies--> {self.Hobbies}\")\n"
      ],
      "metadata": {
        "id": "GVV8b1yZzMeg"
      },
      "execution_count": null,
      "outputs": []
    },
    {
      "cell_type": "code",
      "source": [
        "s1 =  Student(name  = 'sushant' , email = 'sushant@gmail.com' ,  marks = 35 , Hobbies = [ 'swimming'] , roll_no= 1  , Gender = \"Male\")"
      ],
      "metadata": {
        "id": "Zo15RNC51e3-"
      },
      "execution_count": null,
      "outputs": []
    },
    {
      "cell_type": "code",
      "source": [
        "s1.doj"
      ],
      "metadata": {
        "colab": {
          "base_uri": "https://localhost:8080/",
          "height": 35
        },
        "id": "lGkus2y-10Sc",
        "outputId": "df9e6afe-23f4-479c-e60b-b452ab6090f9"
      },
      "execution_count": null,
      "outputs": [
        {
          "output_type": "execute_result",
          "data": {
            "text/plain": [
              "'20-06-2025'"
            ],
            "application/vnd.google.colaboratory.intrinsic+json": {
              "type": "string"
            }
          },
          "metadata": {},
          "execution_count": 49
        }
      ]
    },
    {
      "cell_type": "code",
      "source": [
        "print(s1.name)\n",
        "print(s1.doj)\n",
        "print(s1.email)\n",
        "print(s1.marks)\n",
        "print(s1.get_student_info())"
      ],
      "metadata": {
        "colab": {
          "base_uri": "https://localhost:8080/"
        },
        "id": "WFB6QrW-2Chw",
        "outputId": "7d360718-6acc-4381-e0db-4816cb0d0e38"
      },
      "execution_count": null,
      "outputs": [
        {
          "output_type": "stream",
          "name": "stdout",
          "text": [
            "sushant\n",
            "20-06-2025\n",
            "sushant@gmail.com\n",
            "35.0\n",
            "name --> sushant\n",
            "roll number --> 1\n",
            "marks --> 35.0\n",
            "email --> sushant@gmail.com\n",
            "Gender--> Male\n",
            "date of joining --> 20-06-2025\n",
            "Hobbies--> ['swimming']\n",
            "None\n"
          ]
        }
      ]
    },
    {
      "cell_type": "code",
      "source": [
        "s1 =  Student(name  = 123, email = 'sushant@gmail.com' ,  marks = 35 , Hobbies = [ 'swimming'] , roll_no= 1  , Gender = \"Male\")"
      ],
      "metadata": {
        "colab": {
          "base_uri": "https://localhost:8080/",
          "height": 315
        },
        "id": "XQEMtUHY2NgY",
        "outputId": "b968e672-ea4f-4d3f-8b55-7f9e52dfb1a2"
      },
      "execution_count": null,
      "outputs": [
        {
          "output_type": "error",
          "ename": "ValidationError",
          "evalue": "1 validation error for Student\nname\n  Input should be a valid string [type=string_type, input_value=123, input_type=int]\n    For further information visit https://errors.pydantic.dev/2.11/v/string_type",
          "traceback": [
            "\u001b[0;31m---------------------------------------------------------------------------\u001b[0m",
            "\u001b[0;31mValidationError\u001b[0m                           Traceback (most recent call last)",
            "\u001b[0;32m/tmp/ipython-input-41-3967229091.py\u001b[0m in \u001b[0;36m<cell line: 0>\u001b[0;34m()\u001b[0m\n\u001b[0;32m----> 1\u001b[0;31m \u001b[0ms1\u001b[0m \u001b[0;34m=\u001b[0m  \u001b[0mStudent\u001b[0m\u001b[0;34m(\u001b[0m\u001b[0mname\u001b[0m  \u001b[0;34m=\u001b[0m \u001b[0;36m123\u001b[0m\u001b[0;34m,\u001b[0m \u001b[0memail\u001b[0m \u001b[0;34m=\u001b[0m \u001b[0;34m'sushant@gmail.com'\u001b[0m \u001b[0;34m,\u001b[0m  \u001b[0mmarks\u001b[0m \u001b[0;34m=\u001b[0m \u001b[0;36m35\u001b[0m \u001b[0;34m,\u001b[0m \u001b[0mHobbies\u001b[0m \u001b[0;34m=\u001b[0m \u001b[0;34m[\u001b[0m \u001b[0;34m'swimming'\u001b[0m\u001b[0;34m]\u001b[0m \u001b[0;34m,\u001b[0m \u001b[0mroll_no\u001b[0m\u001b[0;34m=\u001b[0m \u001b[0;36m1\u001b[0m  \u001b[0;34m,\u001b[0m \u001b[0mGender\u001b[0m \u001b[0;34m=\u001b[0m \u001b[0;34m\"Male\"\u001b[0m\u001b[0;34m)\u001b[0m\u001b[0;34m\u001b[0m\u001b[0;34m\u001b[0m\u001b[0m\n\u001b[0m",
            "\u001b[0;32m/usr/local/lib/python3.11/dist-packages/pydantic/main.py\u001b[0m in \u001b[0;36m__init__\u001b[0;34m(self, **data)\u001b[0m\n\u001b[1;32m    251\u001b[0m         \u001b[0;31m# `__tracebackhide__` tells pytest and some other tools to omit this function from tracebacks\u001b[0m\u001b[0;34m\u001b[0m\u001b[0;34m\u001b[0m\u001b[0m\n\u001b[1;32m    252\u001b[0m         \u001b[0m__tracebackhide__\u001b[0m \u001b[0;34m=\u001b[0m \u001b[0;32mTrue\u001b[0m\u001b[0;34m\u001b[0m\u001b[0;34m\u001b[0m\u001b[0m\n\u001b[0;32m--> 253\u001b[0;31m         \u001b[0mvalidated_self\u001b[0m \u001b[0;34m=\u001b[0m \u001b[0mself\u001b[0m\u001b[0;34m.\u001b[0m\u001b[0m__pydantic_validator__\u001b[0m\u001b[0;34m.\u001b[0m\u001b[0mvalidate_python\u001b[0m\u001b[0;34m(\u001b[0m\u001b[0mdata\u001b[0m\u001b[0;34m,\u001b[0m \u001b[0mself_instance\u001b[0m\u001b[0;34m=\u001b[0m\u001b[0mself\u001b[0m\u001b[0;34m)\u001b[0m\u001b[0;34m\u001b[0m\u001b[0;34m\u001b[0m\u001b[0m\n\u001b[0m\u001b[1;32m    254\u001b[0m         \u001b[0;32mif\u001b[0m \u001b[0mself\u001b[0m \u001b[0;32mis\u001b[0m \u001b[0;32mnot\u001b[0m \u001b[0mvalidated_self\u001b[0m\u001b[0;34m:\u001b[0m\u001b[0;34m\u001b[0m\u001b[0;34m\u001b[0m\u001b[0m\n\u001b[1;32m    255\u001b[0m             warnings.warn(\n",
            "\u001b[0;31mValidationError\u001b[0m: 1 validation error for Student\nname\n  Input should be a valid string [type=string_type, input_value=123, input_type=int]\n    For further information visit https://errors.pydantic.dev/2.11/v/string_type"
          ]
        }
      ]
    },
    {
      "cell_type": "code",
      "source": [
        "s1 =  Student(name  = 'sushant' , email = 'sushant@' ,  marks = 35 , Hobbies = [ 'swimming'] , roll_no= 1  , Gender = \"Male\")"
      ],
      "metadata": {
        "colab": {
          "base_uri": "https://localhost:8080/",
          "height": 297
        },
        "id": "Z7_sit0f4X_n",
        "outputId": "5cde08fc-1e0e-4fd1-b909-d09eeaac2cbc"
      },
      "execution_count": null,
      "outputs": [
        {
          "output_type": "error",
          "ename": "ValidationError",
          "evalue": "1 validation error for Student\nemail\n  value is not a valid email address: There must be something after the @-sign. [type=value_error, input_value='sushant@', input_type=str]",
          "traceback": [
            "\u001b[0;31m---------------------------------------------------------------------------\u001b[0m",
            "\u001b[0;31mValidationError\u001b[0m                           Traceback (most recent call last)",
            "\u001b[0;32m/tmp/ipython-input-42-1359431265.py\u001b[0m in \u001b[0;36m<cell line: 0>\u001b[0;34m()\u001b[0m\n\u001b[0;32m----> 1\u001b[0;31m \u001b[0ms1\u001b[0m \u001b[0;34m=\u001b[0m  \u001b[0mStudent\u001b[0m\u001b[0;34m(\u001b[0m\u001b[0mname\u001b[0m  \u001b[0;34m=\u001b[0m \u001b[0;34m'sushant'\u001b[0m \u001b[0;34m,\u001b[0m \u001b[0memail\u001b[0m \u001b[0;34m=\u001b[0m \u001b[0;34m'sushant@'\u001b[0m \u001b[0;34m,\u001b[0m  \u001b[0mmarks\u001b[0m \u001b[0;34m=\u001b[0m \u001b[0;36m35\u001b[0m \u001b[0;34m,\u001b[0m \u001b[0mHobbies\u001b[0m \u001b[0;34m=\u001b[0m \u001b[0;34m[\u001b[0m \u001b[0;34m'swimming'\u001b[0m\u001b[0;34m]\u001b[0m \u001b[0;34m,\u001b[0m \u001b[0mroll_no\u001b[0m\u001b[0;34m=\u001b[0m \u001b[0;36m1\u001b[0m  \u001b[0;34m,\u001b[0m \u001b[0mGender\u001b[0m \u001b[0;34m=\u001b[0m \u001b[0;34m\"Male\"\u001b[0m\u001b[0;34m)\u001b[0m\u001b[0;34m\u001b[0m\u001b[0;34m\u001b[0m\u001b[0m\n\u001b[0m",
            "\u001b[0;32m/usr/local/lib/python3.11/dist-packages/pydantic/main.py\u001b[0m in \u001b[0;36m__init__\u001b[0;34m(self, **data)\u001b[0m\n\u001b[1;32m    251\u001b[0m         \u001b[0;31m# `__tracebackhide__` tells pytest and some other tools to omit this function from tracebacks\u001b[0m\u001b[0;34m\u001b[0m\u001b[0;34m\u001b[0m\u001b[0m\n\u001b[1;32m    252\u001b[0m         \u001b[0m__tracebackhide__\u001b[0m \u001b[0;34m=\u001b[0m \u001b[0;32mTrue\u001b[0m\u001b[0;34m\u001b[0m\u001b[0;34m\u001b[0m\u001b[0m\n\u001b[0;32m--> 253\u001b[0;31m         \u001b[0mvalidated_self\u001b[0m \u001b[0;34m=\u001b[0m \u001b[0mself\u001b[0m\u001b[0;34m.\u001b[0m\u001b[0m__pydantic_validator__\u001b[0m\u001b[0;34m.\u001b[0m\u001b[0mvalidate_python\u001b[0m\u001b[0;34m(\u001b[0m\u001b[0mdata\u001b[0m\u001b[0;34m,\u001b[0m \u001b[0mself_instance\u001b[0m\u001b[0;34m=\u001b[0m\u001b[0mself\u001b[0m\u001b[0;34m)\u001b[0m\u001b[0;34m\u001b[0m\u001b[0;34m\u001b[0m\u001b[0m\n\u001b[0m\u001b[1;32m    254\u001b[0m         \u001b[0;32mif\u001b[0m \u001b[0mself\u001b[0m \u001b[0;32mis\u001b[0m \u001b[0;32mnot\u001b[0m \u001b[0mvalidated_self\u001b[0m\u001b[0;34m:\u001b[0m\u001b[0;34m\u001b[0m\u001b[0;34m\u001b[0m\u001b[0m\n\u001b[1;32m    255\u001b[0m             warnings.warn(\n",
            "\u001b[0;31mValidationError\u001b[0m: 1 validation error for Student\nemail\n  value is not a valid email address: There must be something after the @-sign. [type=value_error, input_value='sushant@', input_type=str]"
          ]
        }
      ]
    },
    {
      "cell_type": "code",
      "source": [
        "s1 =  Student(name  = 'sushant' , email = 'sushant@gmail.com' ,  marks = 35 , Hobbies = 'swimming' , roll_no= 1  , Gender = \"Male\")"
      ],
      "metadata": {
        "colab": {
          "base_uri": "https://localhost:8080/",
          "height": 315
        },
        "id": "aryPUNKQ4bwN",
        "outputId": "e35065fb-e3b8-42aa-adb6-504b24679c87"
      },
      "execution_count": null,
      "outputs": [
        {
          "output_type": "error",
          "ename": "ValidationError",
          "evalue": "1 validation error for Student\nHobbies\n  Input should be a valid list [type=list_type, input_value='swimming', input_type=str]\n    For further information visit https://errors.pydantic.dev/2.11/v/list_type",
          "traceback": [
            "\u001b[0;31m---------------------------------------------------------------------------\u001b[0m",
            "\u001b[0;31mValidationError\u001b[0m                           Traceback (most recent call last)",
            "\u001b[0;32m/tmp/ipython-input-43-1876442517.py\u001b[0m in \u001b[0;36m<cell line: 0>\u001b[0;34m()\u001b[0m\n\u001b[0;32m----> 1\u001b[0;31m \u001b[0ms1\u001b[0m \u001b[0;34m=\u001b[0m  \u001b[0mStudent\u001b[0m\u001b[0;34m(\u001b[0m\u001b[0mname\u001b[0m  \u001b[0;34m=\u001b[0m \u001b[0;34m'sushant'\u001b[0m \u001b[0;34m,\u001b[0m \u001b[0memail\u001b[0m \u001b[0;34m=\u001b[0m \u001b[0;34m'sushant@gmail.com'\u001b[0m \u001b[0;34m,\u001b[0m  \u001b[0mmarks\u001b[0m \u001b[0;34m=\u001b[0m \u001b[0;36m35\u001b[0m \u001b[0;34m,\u001b[0m \u001b[0mHobbies\u001b[0m \u001b[0;34m=\u001b[0m \u001b[0;34m'swimming'\u001b[0m \u001b[0;34m,\u001b[0m \u001b[0mroll_no\u001b[0m\u001b[0;34m=\u001b[0m \u001b[0;36m1\u001b[0m  \u001b[0;34m,\u001b[0m \u001b[0mGender\u001b[0m \u001b[0;34m=\u001b[0m \u001b[0;34m\"Male\"\u001b[0m\u001b[0;34m)\u001b[0m\u001b[0;34m\u001b[0m\u001b[0;34m\u001b[0m\u001b[0m\n\u001b[0m",
            "\u001b[0;32m/usr/local/lib/python3.11/dist-packages/pydantic/main.py\u001b[0m in \u001b[0;36m__init__\u001b[0;34m(self, **data)\u001b[0m\n\u001b[1;32m    251\u001b[0m         \u001b[0;31m# `__tracebackhide__` tells pytest and some other tools to omit this function from tracebacks\u001b[0m\u001b[0;34m\u001b[0m\u001b[0;34m\u001b[0m\u001b[0m\n\u001b[1;32m    252\u001b[0m         \u001b[0m__tracebackhide__\u001b[0m \u001b[0;34m=\u001b[0m \u001b[0;32mTrue\u001b[0m\u001b[0;34m\u001b[0m\u001b[0;34m\u001b[0m\u001b[0m\n\u001b[0;32m--> 253\u001b[0;31m         \u001b[0mvalidated_self\u001b[0m \u001b[0;34m=\u001b[0m \u001b[0mself\u001b[0m\u001b[0;34m.\u001b[0m\u001b[0m__pydantic_validator__\u001b[0m\u001b[0;34m.\u001b[0m\u001b[0mvalidate_python\u001b[0m\u001b[0;34m(\u001b[0m\u001b[0mdata\u001b[0m\u001b[0;34m,\u001b[0m \u001b[0mself_instance\u001b[0m\u001b[0;34m=\u001b[0m\u001b[0mself\u001b[0m\u001b[0;34m)\u001b[0m\u001b[0;34m\u001b[0m\u001b[0;34m\u001b[0m\u001b[0m\n\u001b[0m\u001b[1;32m    254\u001b[0m         \u001b[0;32mif\u001b[0m \u001b[0mself\u001b[0m \u001b[0;32mis\u001b[0m \u001b[0;32mnot\u001b[0m \u001b[0mvalidated_self\u001b[0m\u001b[0;34m:\u001b[0m\u001b[0;34m\u001b[0m\u001b[0;34m\u001b[0m\u001b[0m\n\u001b[1;32m    255\u001b[0m             warnings.warn(\n",
            "\u001b[0;31mValidationError\u001b[0m: 1 validation error for Student\nHobbies\n  Input should be a valid list [type=list_type, input_value='swimming', input_type=str]\n    For further information visit https://errors.pydantic.dev/2.11/v/list_type"
          ]
        }
      ]
    },
    {
      "cell_type": "code",
      "source": [
        "s1 =  Student(name  = 'sushant' , email = 'sushant@gmail.com' ,  marks = 35 , Hobbies = [ 'swimming'] , roll_no= 1.8  , Gender = \"Male\")"
      ],
      "metadata": {
        "colab": {
          "base_uri": "https://localhost:8080/",
          "height": 315
        },
        "id": "P00gjn9g4gxM",
        "outputId": "43aad5ad-36ca-45b3-dac1-d7650e94e996"
      },
      "execution_count": null,
      "outputs": [
        {
          "output_type": "error",
          "ename": "ValidationError",
          "evalue": "1 validation error for Student\nroll_no\n  Input should be a valid integer, got a number with a fractional part [type=int_from_float, input_value=1.8, input_type=float]\n    For further information visit https://errors.pydantic.dev/2.11/v/int_from_float",
          "traceback": [
            "\u001b[0;31m---------------------------------------------------------------------------\u001b[0m",
            "\u001b[0;31mValidationError\u001b[0m                           Traceback (most recent call last)",
            "\u001b[0;32m/tmp/ipython-input-44-310090167.py\u001b[0m in \u001b[0;36m<cell line: 0>\u001b[0;34m()\u001b[0m\n\u001b[0;32m----> 1\u001b[0;31m \u001b[0ms1\u001b[0m \u001b[0;34m=\u001b[0m  \u001b[0mStudent\u001b[0m\u001b[0;34m(\u001b[0m\u001b[0mname\u001b[0m  \u001b[0;34m=\u001b[0m \u001b[0;34m'sushant'\u001b[0m \u001b[0;34m,\u001b[0m \u001b[0memail\u001b[0m \u001b[0;34m=\u001b[0m \u001b[0;34m'sushant@gmail.com'\u001b[0m \u001b[0;34m,\u001b[0m  \u001b[0mmarks\u001b[0m \u001b[0;34m=\u001b[0m \u001b[0;36m35\u001b[0m \u001b[0;34m,\u001b[0m \u001b[0mHobbies\u001b[0m \u001b[0;34m=\u001b[0m \u001b[0;34m[\u001b[0m \u001b[0;34m'swimming'\u001b[0m\u001b[0;34m]\u001b[0m \u001b[0;34m,\u001b[0m \u001b[0mroll_no\u001b[0m\u001b[0;34m=\u001b[0m \u001b[0;36m1.8\u001b[0m  \u001b[0;34m,\u001b[0m \u001b[0mGender\u001b[0m \u001b[0;34m=\u001b[0m \u001b[0;34m\"Male\"\u001b[0m\u001b[0;34m)\u001b[0m\u001b[0;34m\u001b[0m\u001b[0;34m\u001b[0m\u001b[0m\n\u001b[0m",
            "\u001b[0;32m/usr/local/lib/python3.11/dist-packages/pydantic/main.py\u001b[0m in \u001b[0;36m__init__\u001b[0;34m(self, **data)\u001b[0m\n\u001b[1;32m    251\u001b[0m         \u001b[0;31m# `__tracebackhide__` tells pytest and some other tools to omit this function from tracebacks\u001b[0m\u001b[0;34m\u001b[0m\u001b[0;34m\u001b[0m\u001b[0m\n\u001b[1;32m    252\u001b[0m         \u001b[0m__tracebackhide__\u001b[0m \u001b[0;34m=\u001b[0m \u001b[0;32mTrue\u001b[0m\u001b[0;34m\u001b[0m\u001b[0;34m\u001b[0m\u001b[0m\n\u001b[0;32m--> 253\u001b[0;31m         \u001b[0mvalidated_self\u001b[0m \u001b[0;34m=\u001b[0m \u001b[0mself\u001b[0m\u001b[0;34m.\u001b[0m\u001b[0m__pydantic_validator__\u001b[0m\u001b[0;34m.\u001b[0m\u001b[0mvalidate_python\u001b[0m\u001b[0;34m(\u001b[0m\u001b[0mdata\u001b[0m\u001b[0;34m,\u001b[0m \u001b[0mself_instance\u001b[0m\u001b[0;34m=\u001b[0m\u001b[0mself\u001b[0m\u001b[0;34m)\u001b[0m\u001b[0;34m\u001b[0m\u001b[0;34m\u001b[0m\u001b[0m\n\u001b[0m\u001b[1;32m    254\u001b[0m         \u001b[0;32mif\u001b[0m \u001b[0mself\u001b[0m \u001b[0;32mis\u001b[0m \u001b[0;32mnot\u001b[0m \u001b[0mvalidated_self\u001b[0m\u001b[0;34m:\u001b[0m\u001b[0;34m\u001b[0m\u001b[0;34m\u001b[0m\u001b[0m\n\u001b[1;32m    255\u001b[0m             warnings.warn(\n",
            "\u001b[0;31mValidationError\u001b[0m: 1 validation error for Student\nroll_no\n  Input should be a valid integer, got a number with a fractional part [type=int_from_float, input_value=1.8, input_type=float]\n    For further information visit https://errors.pydantic.dev/2.11/v/int_from_float"
          ]
        }
      ]
    },
    {
      "cell_type": "code",
      "source": [
        "s1 =  Student(name  = 'sushant' , email = 'sushant@gmail.com' ,  marks = 35 , Hobbies = [ 'swimming'] , roll_no= 1  , Gender = \"male\")"
      ],
      "metadata": {
        "colab": {
          "base_uri": "https://localhost:8080/",
          "height": 315
        },
        "id": "2tQZjZb94jPd",
        "outputId": "da0ce4be-ed72-44c1-f13c-3e28b2ab6005"
      },
      "execution_count": null,
      "outputs": [
        {
          "output_type": "error",
          "ename": "ValidationError",
          "evalue": "1 validation error for Student\nGender\n  Input should be 'Male' or 'Female' [type=literal_error, input_value='male', input_type=str]\n    For further information visit https://errors.pydantic.dev/2.11/v/literal_error",
          "traceback": [
            "\u001b[0;31m---------------------------------------------------------------------------\u001b[0m",
            "\u001b[0;31mValidationError\u001b[0m                           Traceback (most recent call last)",
            "\u001b[0;32m/tmp/ipython-input-45-2798460358.py\u001b[0m in \u001b[0;36m<cell line: 0>\u001b[0;34m()\u001b[0m\n\u001b[0;32m----> 1\u001b[0;31m \u001b[0ms1\u001b[0m \u001b[0;34m=\u001b[0m  \u001b[0mStudent\u001b[0m\u001b[0;34m(\u001b[0m\u001b[0mname\u001b[0m  \u001b[0;34m=\u001b[0m \u001b[0;34m'sushant'\u001b[0m \u001b[0;34m,\u001b[0m \u001b[0memail\u001b[0m \u001b[0;34m=\u001b[0m \u001b[0;34m'sushant@gmail.com'\u001b[0m \u001b[0;34m,\u001b[0m  \u001b[0mmarks\u001b[0m \u001b[0;34m=\u001b[0m \u001b[0;36m35\u001b[0m \u001b[0;34m,\u001b[0m \u001b[0mHobbies\u001b[0m \u001b[0;34m=\u001b[0m \u001b[0;34m[\u001b[0m \u001b[0;34m'swimming'\u001b[0m\u001b[0;34m]\u001b[0m \u001b[0;34m,\u001b[0m \u001b[0mroll_no\u001b[0m\u001b[0;34m=\u001b[0m \u001b[0;36m1\u001b[0m  \u001b[0;34m,\u001b[0m \u001b[0mGender\u001b[0m \u001b[0;34m=\u001b[0m \u001b[0;34m\"male\"\u001b[0m\u001b[0;34m)\u001b[0m\u001b[0;34m\u001b[0m\u001b[0;34m\u001b[0m\u001b[0m\n\u001b[0m",
            "\u001b[0;32m/usr/local/lib/python3.11/dist-packages/pydantic/main.py\u001b[0m in \u001b[0;36m__init__\u001b[0;34m(self, **data)\u001b[0m\n\u001b[1;32m    251\u001b[0m         \u001b[0;31m# `__tracebackhide__` tells pytest and some other tools to omit this function from tracebacks\u001b[0m\u001b[0;34m\u001b[0m\u001b[0;34m\u001b[0m\u001b[0m\n\u001b[1;32m    252\u001b[0m         \u001b[0m__tracebackhide__\u001b[0m \u001b[0;34m=\u001b[0m \u001b[0;32mTrue\u001b[0m\u001b[0;34m\u001b[0m\u001b[0;34m\u001b[0m\u001b[0m\n\u001b[0;32m--> 253\u001b[0;31m         \u001b[0mvalidated_self\u001b[0m \u001b[0;34m=\u001b[0m \u001b[0mself\u001b[0m\u001b[0;34m.\u001b[0m\u001b[0m__pydantic_validator__\u001b[0m\u001b[0;34m.\u001b[0m\u001b[0mvalidate_python\u001b[0m\u001b[0;34m(\u001b[0m\u001b[0mdata\u001b[0m\u001b[0;34m,\u001b[0m \u001b[0mself_instance\u001b[0m\u001b[0;34m=\u001b[0m\u001b[0mself\u001b[0m\u001b[0;34m)\u001b[0m\u001b[0;34m\u001b[0m\u001b[0;34m\u001b[0m\u001b[0m\n\u001b[0m\u001b[1;32m    254\u001b[0m         \u001b[0;32mif\u001b[0m \u001b[0mself\u001b[0m \u001b[0;32mis\u001b[0m \u001b[0;32mnot\u001b[0m \u001b[0mvalidated_self\u001b[0m\u001b[0;34m:\u001b[0m\u001b[0;34m\u001b[0m\u001b[0;34m\u001b[0m\u001b[0m\n\u001b[1;32m    255\u001b[0m             warnings.warn(\n",
            "\u001b[0;31mValidationError\u001b[0m: 1 validation error for Student\nGender\n  Input should be 'Male' or 'Female' [type=literal_error, input_value='male', input_type=str]\n    For further information visit https://errors.pydantic.dev/2.11/v/literal_error"
          ]
        }
      ]
    },
    {
      "cell_type": "code",
      "source": [
        "def add(x ,y):\n",
        "  return x+y"
      ],
      "metadata": {
        "id": "a7_Gpzwv4lxS"
      },
      "execution_count": null,
      "outputs": []
    },
    {
      "cell_type": "code",
      "source": [
        "print(add(2  , 3))"
      ],
      "metadata": {
        "colab": {
          "base_uri": "https://localhost:8080/"
        },
        "id": "5gFVyiOA5dLK",
        "outputId": "922d69cc-6af8-4cca-a35c-0f8bb4adbf67"
      },
      "execution_count": null,
      "outputs": [
        {
          "output_type": "stream",
          "name": "stdout",
          "text": [
            "5\n"
          ]
        }
      ]
    },
    {
      "cell_type": "code",
      "source": [
        "def add(x ,y):\n",
        "  print(x+y)"
      ],
      "metadata": {
        "id": "-hNKE-XN5hK6"
      },
      "execution_count": null,
      "outputs": []
    },
    {
      "cell_type": "code",
      "source": [
        "print(add(2,3))"
      ],
      "metadata": {
        "colab": {
          "base_uri": "https://localhost:8080/"
        },
        "id": "-u1b9VIe5lCo",
        "outputId": "15346d45-82c9-4664-a615-b1d3a6f14aa5"
      },
      "execution_count": null,
      "outputs": [
        {
          "output_type": "stream",
          "name": "stdout",
          "text": [
            "5\n",
            "None\n"
          ]
        }
      ]
    },
    {
      "cell_type": "code",
      "source": [
        "# multiple\n",
        "class Father\n",
        "class Mother\n",
        "class child(Father , Mother)"
      ],
      "metadata": {
        "id": "FMk-x_F65m48"
      },
      "execution_count": null,
      "outputs": []
    }
  ]
}