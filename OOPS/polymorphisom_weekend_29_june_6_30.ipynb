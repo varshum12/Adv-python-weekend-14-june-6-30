{
  "nbformat": 4,
  "nbformat_minor": 0,
  "metadata": {
    "colab": {
      "provenance": []
    },
    "kernelspec": {
      "name": "python3",
      "display_name": "Python 3"
    },
    "language_info": {
      "name": "python"
    }
  },
  "cells": [
    {
      "cell_type": "code",
      "execution_count": null,
      "metadata": {
        "colab": {
          "base_uri": "https://localhost:8080/",
          "height": 35
        },
        "id": "KbKBsZNI6_g8",
        "outputId": "8aa439d3-18c9-48fc-ccae-a9d960c39895"
      },
      "outputs": [
        {
          "output_type": "execute_result",
          "data": {
            "text/plain": [
              "'swaramete'"
            ],
            "application/vnd.google.colaboratory.intrinsic+json": {
              "type": "string"
            }
          },
          "metadata": {},
          "execution_count": 1
        }
      ],
      "source": [
        "s  = 'swara'\n",
        "m  = 'mete'\n",
        "s + m"
      ]
    },
    {
      "cell_type": "code",
      "source": [
        "12 +23"
      ],
      "metadata": {
        "colab": {
          "base_uri": "https://localhost:8080/"
        },
        "id": "A_M6tq2O7fMa",
        "outputId": "e8ed79eb-3ab1-43fa-d8ac-61364f6610c6"
      },
      "execution_count": null,
      "outputs": [
        {
          "output_type": "execute_result",
          "data": {
            "text/plain": [
              "35"
            ]
          },
          "metadata": {},
          "execution_count": 2
        }
      ]
    },
    {
      "cell_type": "code",
      "source": [
        "12.34 +  45.67"
      ],
      "metadata": {
        "colab": {
          "base_uri": "https://localhost:8080/"
        },
        "id": "EKZhgx7j7lhl",
        "outputId": "8ae92483-3f4f-4a8b-bcc1-11fbf96a49b1"
      },
      "execution_count": null,
      "outputs": [
        {
          "output_type": "execute_result",
          "data": {
            "text/plain": [
              "58.010000000000005"
            ]
          },
          "metadata": {},
          "execution_count": 3
        }
      ]
    },
    {
      "cell_type": "code",
      "source": [
        "[12,345,67] + ['raman' , 'suresh' ,  'sunita' , 34 , 5,67]"
      ],
      "metadata": {
        "colab": {
          "base_uri": "https://localhost:8080/"
        },
        "id": "E-eVrvPK7ruF",
        "outputId": "a0dab1a9-36a3-45a8-b915-27f761d08228"
      },
      "execution_count": null,
      "outputs": [
        {
          "output_type": "execute_result",
          "data": {
            "text/plain": [
              "[12, 345, 67, 'raman', 'suresh', 'sunita', 34, 5, 67]"
            ]
          },
          "metadata": {},
          "execution_count": 4
        }
      ]
    },
    {
      "cell_type": "code",
      "source": [
        "(12,345,67) + ('raman' , 'suresh' ,  'sunita' , 34 , 5,67)"
      ],
      "metadata": {
        "colab": {
          "base_uri": "https://localhost:8080/"
        },
        "id": "6rZfuQQC7yNu",
        "outputId": "b1c92f22-07b4-41cf-dfc3-0b7f902c3232"
      },
      "execution_count": null,
      "outputs": [
        {
          "output_type": "execute_result",
          "data": {
            "text/plain": [
              "(12, 345, 67, 'raman', 'suresh', 'sunita', 34, 5, 67)"
            ]
          },
          "metadata": {},
          "execution_count": 5
        }
      ]
    },
    {
      "cell_type": "code",
      "source": [
        "{12,345,67} + {'raman' , 'suresh' ,  'sunita' , 34 , 5,67}"
      ],
      "metadata": {
        "colab": {
          "base_uri": "https://localhost:8080/",
          "height": 141
        },
        "id": "vGRm6mHP73RW",
        "outputId": "86248e09-247c-4645-b0d9-b2cd4fd7c9ff"
      },
      "execution_count": null,
      "outputs": [
        {
          "output_type": "error",
          "ename": "TypeError",
          "evalue": "unsupported operand type(s) for +: 'set' and 'set'",
          "traceback": [
            "\u001b[0;31m---------------------------------------------------------------------------\u001b[0m",
            "\u001b[0;31mTypeError\u001b[0m                                 Traceback (most recent call last)",
            "\u001b[0;32m/tmp/ipython-input-6-590041334.py\u001b[0m in \u001b[0;36m<cell line: 0>\u001b[0;34m()\u001b[0m\n\u001b[0;32m----> 1\u001b[0;31m \u001b[0;34m{\u001b[0m\u001b[0;36m12\u001b[0m\u001b[0;34m,\u001b[0m\u001b[0;36m345\u001b[0m\u001b[0;34m,\u001b[0m\u001b[0;36m67\u001b[0m\u001b[0;34m}\u001b[0m \u001b[0;34m+\u001b[0m \u001b[0;34m{\u001b[0m\u001b[0;34m'raman'\u001b[0m \u001b[0;34m,\u001b[0m \u001b[0;34m'suresh'\u001b[0m \u001b[0;34m,\u001b[0m  \u001b[0;34m'sunita'\u001b[0m \u001b[0;34m,\u001b[0m \u001b[0;36m34\u001b[0m \u001b[0;34m,\u001b[0m \u001b[0;36m5\u001b[0m\u001b[0;34m,\u001b[0m\u001b[0;36m67\u001b[0m\u001b[0;34m}\u001b[0m\u001b[0;34m\u001b[0m\u001b[0;34m\u001b[0m\u001b[0m\n\u001b[0m",
            "\u001b[0;31mTypeError\u001b[0m: unsupported operand type(s) for +: 'set' and 'set'"
          ]
        }
      ]
    },
    {
      "cell_type": "code",
      "source": [
        "s = 'swara'\n",
        "len(s)"
      ],
      "metadata": {
        "colab": {
          "base_uri": "https://localhost:8080/"
        },
        "id": "BYdcIOpB8BFM",
        "outputId": "1e5b6ed1-8f5c-4f41-a6bd-4833daa3e1ea"
      },
      "execution_count": null,
      "outputs": [
        {
          "output_type": "execute_result",
          "data": {
            "text/plain": [
              "5"
            ]
          },
          "metadata": {},
          "execution_count": 8
        }
      ]
    },
    {
      "cell_type": "code",
      "source": [
        "len([12,345,67])"
      ],
      "metadata": {
        "colab": {
          "base_uri": "https://localhost:8080/"
        },
        "id": "MBYL7KwB8P-O",
        "outputId": "1e569497-dd98-4d12-c18b-d81269b778e7"
      },
      "execution_count": null,
      "outputs": [
        {
          "output_type": "execute_result",
          "data": {
            "text/plain": [
              "3"
            ]
          },
          "metadata": {},
          "execution_count": 9
        }
      ]
    },
    {
      "cell_type": "code",
      "source": [
        "len({12,345,67})"
      ],
      "metadata": {
        "colab": {
          "base_uri": "https://localhost:8080/"
        },
        "id": "mntiQAD48WRl",
        "outputId": "aa21b99d-2dce-4ad6-dcc7-ddc2aba785ce"
      },
      "execution_count": null,
      "outputs": [
        {
          "output_type": "execute_result",
          "data": {
            "text/plain": [
              "3"
            ]
          },
          "metadata": {},
          "execution_count": 10
        }
      ]
    },
    {
      "cell_type": "code",
      "source": [
        "len((12,345,67))"
      ],
      "metadata": {
        "colab": {
          "base_uri": "https://localhost:8080/"
        },
        "id": "pQFKzu6X8X4F",
        "outputId": "4987a731-88c9-4241-f50d-876438aa1a97"
      },
      "execution_count": null,
      "outputs": [
        {
          "output_type": "execute_result",
          "data": {
            "text/plain": [
              "3"
            ]
          },
          "metadata": {},
          "execution_count": 12
        }
      ]
    },
    {
      "cell_type": "markdown",
      "source": [],
      "metadata": {
        "id": "7SB7PI2V8lgQ"
      }
    },
    {
      "cell_type": "markdown",
      "source": [],
      "metadata": {
        "id": "WI6TisAH8mDR"
      }
    },
    {
      "cell_type": "code",
      "source": [
        "d  =  {'name'  : ['prajkta' , 'sunita' , 'neeta'] , 'age' : [12 ,23, 32]}"
      ],
      "metadata": {
        "id": "nXSNn7Cc8aYX"
      },
      "execution_count": null,
      "outputs": []
    },
    {
      "cell_type": "code",
      "source": [
        "len(d)"
      ],
      "metadata": {
        "colab": {
          "base_uri": "https://localhost:8080/"
        },
        "id": "jUhBIh_s8m1B",
        "outputId": "3bf9e482-8e34-4740-b92b-151aa73e8e5f"
      },
      "execution_count": null,
      "outputs": [
        {
          "output_type": "execute_result",
          "data": {
            "text/plain": [
              "2"
            ]
          },
          "metadata": {},
          "execution_count": 14
        }
      ]
    },
    {
      "cell_type": "code",
      "source": [
        "import pandas as pd"
      ],
      "metadata": {
        "id": "N_K4AExL8oFr"
      },
      "execution_count": null,
      "outputs": []
    },
    {
      "cell_type": "code",
      "source": [
        "data  =  pd.DataFrame(d)"
      ],
      "metadata": {
        "id": "xYtLAnC78snC"
      },
      "execution_count": null,
      "outputs": []
    },
    {
      "cell_type": "code",
      "source": [
        "data"
      ],
      "metadata": {
        "colab": {
          "base_uri": "https://localhost:8080/",
          "height": 143
        },
        "id": "neopl25D8xY6",
        "outputId": "8ce96f8b-0b6a-4f04-d860-0d86dde38537"
      },
      "execution_count": null,
      "outputs": [
        {
          "output_type": "execute_result",
          "data": {
            "text/plain": [
              "      name  age\n",
              "0  prajkta   12\n",
              "1   sunita   23\n",
              "2    neeta   32"
            ],
            "text/html": [
              "\n",
              "  <div id=\"df-51061f6e-f44a-44db-854c-d3b38306f6a5\" class=\"colab-df-container\">\n",
              "    <div>\n",
              "<style scoped>\n",
              "    .dataframe tbody tr th:only-of-type {\n",
              "        vertical-align: middle;\n",
              "    }\n",
              "\n",
              "    .dataframe tbody tr th {\n",
              "        vertical-align: top;\n",
              "    }\n",
              "\n",
              "    .dataframe thead th {\n",
              "        text-align: right;\n",
              "    }\n",
              "</style>\n",
              "<table border=\"1\" class=\"dataframe\">\n",
              "  <thead>\n",
              "    <tr style=\"text-align: right;\">\n",
              "      <th></th>\n",
              "      <th>name</th>\n",
              "      <th>age</th>\n",
              "    </tr>\n",
              "  </thead>\n",
              "  <tbody>\n",
              "    <tr>\n",
              "      <th>0</th>\n",
              "      <td>prajkta</td>\n",
              "      <td>12</td>\n",
              "    </tr>\n",
              "    <tr>\n",
              "      <th>1</th>\n",
              "      <td>sunita</td>\n",
              "      <td>23</td>\n",
              "    </tr>\n",
              "    <tr>\n",
              "      <th>2</th>\n",
              "      <td>neeta</td>\n",
              "      <td>32</td>\n",
              "    </tr>\n",
              "  </tbody>\n",
              "</table>\n",
              "</div>\n",
              "    <div class=\"colab-df-buttons\">\n",
              "\n",
              "  <div class=\"colab-df-container\">\n",
              "    <button class=\"colab-df-convert\" onclick=\"convertToInteractive('df-51061f6e-f44a-44db-854c-d3b38306f6a5')\"\n",
              "            title=\"Convert this dataframe to an interactive table.\"\n",
              "            style=\"display:none;\">\n",
              "\n",
              "  <svg xmlns=\"http://www.w3.org/2000/svg\" height=\"24px\" viewBox=\"0 -960 960 960\">\n",
              "    <path d=\"M120-120v-720h720v720H120Zm60-500h600v-160H180v160Zm220 220h160v-160H400v160Zm0 220h160v-160H400v160ZM180-400h160v-160H180v160Zm440 0h160v-160H620v160ZM180-180h160v-160H180v160Zm440 0h160v-160H620v160Z\"/>\n",
              "  </svg>\n",
              "    </button>\n",
              "\n",
              "  <style>\n",
              "    .colab-df-container {\n",
              "      display:flex;\n",
              "      gap: 12px;\n",
              "    }\n",
              "\n",
              "    .colab-df-convert {\n",
              "      background-color: #E8F0FE;\n",
              "      border: none;\n",
              "      border-radius: 50%;\n",
              "      cursor: pointer;\n",
              "      display: none;\n",
              "      fill: #1967D2;\n",
              "      height: 32px;\n",
              "      padding: 0 0 0 0;\n",
              "      width: 32px;\n",
              "    }\n",
              "\n",
              "    .colab-df-convert:hover {\n",
              "      background-color: #E2EBFA;\n",
              "      box-shadow: 0px 1px 2px rgba(60, 64, 67, 0.3), 0px 1px 3px 1px rgba(60, 64, 67, 0.15);\n",
              "      fill: #174EA6;\n",
              "    }\n",
              "\n",
              "    .colab-df-buttons div {\n",
              "      margin-bottom: 4px;\n",
              "    }\n",
              "\n",
              "    [theme=dark] .colab-df-convert {\n",
              "      background-color: #3B4455;\n",
              "      fill: #D2E3FC;\n",
              "    }\n",
              "\n",
              "    [theme=dark] .colab-df-convert:hover {\n",
              "      background-color: #434B5C;\n",
              "      box-shadow: 0px 1px 3px 1px rgba(0, 0, 0, 0.15);\n",
              "      filter: drop-shadow(0px 1px 2px rgba(0, 0, 0, 0.3));\n",
              "      fill: #FFFFFF;\n",
              "    }\n",
              "  </style>\n",
              "\n",
              "    <script>\n",
              "      const buttonEl =\n",
              "        document.querySelector('#df-51061f6e-f44a-44db-854c-d3b38306f6a5 button.colab-df-convert');\n",
              "      buttonEl.style.display =\n",
              "        google.colab.kernel.accessAllowed ? 'block' : 'none';\n",
              "\n",
              "      async function convertToInteractive(key) {\n",
              "        const element = document.querySelector('#df-51061f6e-f44a-44db-854c-d3b38306f6a5');\n",
              "        const dataTable =\n",
              "          await google.colab.kernel.invokeFunction('convertToInteractive',\n",
              "                                                    [key], {});\n",
              "        if (!dataTable) return;\n",
              "\n",
              "        const docLinkHtml = 'Like what you see? Visit the ' +\n",
              "          '<a target=\"_blank\" href=https://colab.research.google.com/notebooks/data_table.ipynb>data table notebook</a>'\n",
              "          + ' to learn more about interactive tables.';\n",
              "        element.innerHTML = '';\n",
              "        dataTable['output_type'] = 'display_data';\n",
              "        await google.colab.output.renderOutput(dataTable, element);\n",
              "        const docLink = document.createElement('div');\n",
              "        docLink.innerHTML = docLinkHtml;\n",
              "        element.appendChild(docLink);\n",
              "      }\n",
              "    </script>\n",
              "  </div>\n",
              "\n",
              "\n",
              "    <div id=\"df-dfd0a59f-8628-42eb-a952-7b2492100c1d\">\n",
              "      <button class=\"colab-df-quickchart\" onclick=\"quickchart('df-dfd0a59f-8628-42eb-a952-7b2492100c1d')\"\n",
              "                title=\"Suggest charts\"\n",
              "                style=\"display:none;\">\n",
              "\n",
              "<svg xmlns=\"http://www.w3.org/2000/svg\" height=\"24px\"viewBox=\"0 0 24 24\"\n",
              "     width=\"24px\">\n",
              "    <g>\n",
              "        <path d=\"M19 3H5c-1.1 0-2 .9-2 2v14c0 1.1.9 2 2 2h14c1.1 0 2-.9 2-2V5c0-1.1-.9-2-2-2zM9 17H7v-7h2v7zm4 0h-2V7h2v10zm4 0h-2v-4h2v4z\"/>\n",
              "    </g>\n",
              "</svg>\n",
              "      </button>\n",
              "\n",
              "<style>\n",
              "  .colab-df-quickchart {\n",
              "      --bg-color: #E8F0FE;\n",
              "      --fill-color: #1967D2;\n",
              "      --hover-bg-color: #E2EBFA;\n",
              "      --hover-fill-color: #174EA6;\n",
              "      --disabled-fill-color: #AAA;\n",
              "      --disabled-bg-color: #DDD;\n",
              "  }\n",
              "\n",
              "  [theme=dark] .colab-df-quickchart {\n",
              "      --bg-color: #3B4455;\n",
              "      --fill-color: #D2E3FC;\n",
              "      --hover-bg-color: #434B5C;\n",
              "      --hover-fill-color: #FFFFFF;\n",
              "      --disabled-bg-color: #3B4455;\n",
              "      --disabled-fill-color: #666;\n",
              "  }\n",
              "\n",
              "  .colab-df-quickchart {\n",
              "    background-color: var(--bg-color);\n",
              "    border: none;\n",
              "    border-radius: 50%;\n",
              "    cursor: pointer;\n",
              "    display: none;\n",
              "    fill: var(--fill-color);\n",
              "    height: 32px;\n",
              "    padding: 0;\n",
              "    width: 32px;\n",
              "  }\n",
              "\n",
              "  .colab-df-quickchart:hover {\n",
              "    background-color: var(--hover-bg-color);\n",
              "    box-shadow: 0 1px 2px rgba(60, 64, 67, 0.3), 0 1px 3px 1px rgba(60, 64, 67, 0.15);\n",
              "    fill: var(--button-hover-fill-color);\n",
              "  }\n",
              "\n",
              "  .colab-df-quickchart-complete:disabled,\n",
              "  .colab-df-quickchart-complete:disabled:hover {\n",
              "    background-color: var(--disabled-bg-color);\n",
              "    fill: var(--disabled-fill-color);\n",
              "    box-shadow: none;\n",
              "  }\n",
              "\n",
              "  .colab-df-spinner {\n",
              "    border: 2px solid var(--fill-color);\n",
              "    border-color: transparent;\n",
              "    border-bottom-color: var(--fill-color);\n",
              "    animation:\n",
              "      spin 1s steps(1) infinite;\n",
              "  }\n",
              "\n",
              "  @keyframes spin {\n",
              "    0% {\n",
              "      border-color: transparent;\n",
              "      border-bottom-color: var(--fill-color);\n",
              "      border-left-color: var(--fill-color);\n",
              "    }\n",
              "    20% {\n",
              "      border-color: transparent;\n",
              "      border-left-color: var(--fill-color);\n",
              "      border-top-color: var(--fill-color);\n",
              "    }\n",
              "    30% {\n",
              "      border-color: transparent;\n",
              "      border-left-color: var(--fill-color);\n",
              "      border-top-color: var(--fill-color);\n",
              "      border-right-color: var(--fill-color);\n",
              "    }\n",
              "    40% {\n",
              "      border-color: transparent;\n",
              "      border-right-color: var(--fill-color);\n",
              "      border-top-color: var(--fill-color);\n",
              "    }\n",
              "    60% {\n",
              "      border-color: transparent;\n",
              "      border-right-color: var(--fill-color);\n",
              "    }\n",
              "    80% {\n",
              "      border-color: transparent;\n",
              "      border-right-color: var(--fill-color);\n",
              "      border-bottom-color: var(--fill-color);\n",
              "    }\n",
              "    90% {\n",
              "      border-color: transparent;\n",
              "      border-bottom-color: var(--fill-color);\n",
              "    }\n",
              "  }\n",
              "</style>\n",
              "\n",
              "      <script>\n",
              "        async function quickchart(key) {\n",
              "          const quickchartButtonEl =\n",
              "            document.querySelector('#' + key + ' button');\n",
              "          quickchartButtonEl.disabled = true;  // To prevent multiple clicks.\n",
              "          quickchartButtonEl.classList.add('colab-df-spinner');\n",
              "          try {\n",
              "            const charts = await google.colab.kernel.invokeFunction(\n",
              "                'suggestCharts', [key], {});\n",
              "          } catch (error) {\n",
              "            console.error('Error during call to suggestCharts:', error);\n",
              "          }\n",
              "          quickchartButtonEl.classList.remove('colab-df-spinner');\n",
              "          quickchartButtonEl.classList.add('colab-df-quickchart-complete');\n",
              "        }\n",
              "        (() => {\n",
              "          let quickchartButtonEl =\n",
              "            document.querySelector('#df-dfd0a59f-8628-42eb-a952-7b2492100c1d button');\n",
              "          quickchartButtonEl.style.display =\n",
              "            google.colab.kernel.accessAllowed ? 'block' : 'none';\n",
              "        })();\n",
              "      </script>\n",
              "    </div>\n",
              "\n",
              "  <div id=\"id_b26f6682-13e4-495f-bdc3-8f51e8423b3f\">\n",
              "    <style>\n",
              "      .colab-df-generate {\n",
              "        background-color: #E8F0FE;\n",
              "        border: none;\n",
              "        border-radius: 50%;\n",
              "        cursor: pointer;\n",
              "        display: none;\n",
              "        fill: #1967D2;\n",
              "        height: 32px;\n",
              "        padding: 0 0 0 0;\n",
              "        width: 32px;\n",
              "      }\n",
              "\n",
              "      .colab-df-generate:hover {\n",
              "        background-color: #E2EBFA;\n",
              "        box-shadow: 0px 1px 2px rgba(60, 64, 67, 0.3), 0px 1px 3px 1px rgba(60, 64, 67, 0.15);\n",
              "        fill: #174EA6;\n",
              "      }\n",
              "\n",
              "      [theme=dark] .colab-df-generate {\n",
              "        background-color: #3B4455;\n",
              "        fill: #D2E3FC;\n",
              "      }\n",
              "\n",
              "      [theme=dark] .colab-df-generate:hover {\n",
              "        background-color: #434B5C;\n",
              "        box-shadow: 0px 1px 3px 1px rgba(0, 0, 0, 0.15);\n",
              "        filter: drop-shadow(0px 1px 2px rgba(0, 0, 0, 0.3));\n",
              "        fill: #FFFFFF;\n",
              "      }\n",
              "    </style>\n",
              "    <button class=\"colab-df-generate\" onclick=\"generateWithVariable('data')\"\n",
              "            title=\"Generate code using this dataframe.\"\n",
              "            style=\"display:none;\">\n",
              "\n",
              "  <svg xmlns=\"http://www.w3.org/2000/svg\" height=\"24px\"viewBox=\"0 0 24 24\"\n",
              "       width=\"24px\">\n",
              "    <path d=\"M7,19H8.4L18.45,9,17,7.55,7,17.6ZM5,21V16.75L18.45,3.32a2,2,0,0,1,2.83,0l1.4,1.43a1.91,1.91,0,0,1,.58,1.4,1.91,1.91,0,0,1-.58,1.4L9.25,21ZM18.45,9,17,7.55Zm-12,3A5.31,5.31,0,0,0,4.9,8.1,5.31,5.31,0,0,0,1,6.5,5.31,5.31,0,0,0,4.9,4.9,5.31,5.31,0,0,0,6.5,1,5.31,5.31,0,0,0,8.1,4.9,5.31,5.31,0,0,0,12,6.5,5.46,5.46,0,0,0,6.5,12Z\"/>\n",
              "  </svg>\n",
              "    </button>\n",
              "    <script>\n",
              "      (() => {\n",
              "      const buttonEl =\n",
              "        document.querySelector('#id_b26f6682-13e4-495f-bdc3-8f51e8423b3f button.colab-df-generate');\n",
              "      buttonEl.style.display =\n",
              "        google.colab.kernel.accessAllowed ? 'block' : 'none';\n",
              "\n",
              "      buttonEl.onclick = () => {\n",
              "        google.colab.notebook.generateWithVariable('data');\n",
              "      }\n",
              "      })();\n",
              "    </script>\n",
              "  </div>\n",
              "\n",
              "    </div>\n",
              "  </div>\n"
            ],
            "application/vnd.google.colaboratory.intrinsic+json": {
              "type": "dataframe",
              "variable_name": "data",
              "summary": "{\n  \"name\": \"data\",\n  \"rows\": 3,\n  \"fields\": [\n    {\n      \"column\": \"name\",\n      \"properties\": {\n        \"dtype\": \"string\",\n        \"num_unique_values\": 3,\n        \"samples\": [\n          \"prajkta\",\n          \"sunita\",\n          \"neeta\"\n        ],\n        \"semantic_type\": \"\",\n        \"description\": \"\"\n      }\n    },\n    {\n      \"column\": \"age\",\n      \"properties\": {\n        \"dtype\": \"number\",\n        \"std\": 10,\n        \"min\": 12,\n        \"max\": 32,\n        \"num_unique_values\": 3,\n        \"samples\": [\n          12,\n          23,\n          32\n        ],\n        \"semantic_type\": \"\",\n        \"description\": \"\"\n      }\n    }\n  ]\n}"
            }
          },
          "metadata": {},
          "execution_count": 17
        }
      ]
    },
    {
      "cell_type": "code",
      "source": [
        "len(data)"
      ],
      "metadata": {
        "colab": {
          "base_uri": "https://localhost:8080/"
        },
        "id": "0bI-Llkh80YM",
        "outputId": "1fb067c3-b4fe-4869-8125-91ece2ed11fc"
      },
      "execution_count": null,
      "outputs": [
        {
          "output_type": "execute_result",
          "data": {
            "text/plain": [
              "3"
            ]
          },
          "metadata": {},
          "execution_count": 18
        }
      ]
    },
    {
      "cell_type": "code",
      "source": [
        "12*23"
      ],
      "metadata": {
        "colab": {
          "base_uri": "https://localhost:8080/"
        },
        "id": "kta_492J81-R",
        "outputId": "8235453b-b849-4d1d-a639-b9e8280a4be6"
      },
      "execution_count": null,
      "outputs": [
        {
          "output_type": "execute_result",
          "data": {
            "text/plain": [
              "276"
            ]
          },
          "metadata": {},
          "execution_count": 19
        }
      ]
    },
    {
      "cell_type": "code",
      "source": [
        "'swara'*2"
      ],
      "metadata": {
        "colab": {
          "base_uri": "https://localhost:8080/",
          "height": 35
        },
        "id": "A_ElERtb86_A",
        "outputId": "53f5f49d-e7e7-4d7d-e612-90591262c2dd"
      },
      "execution_count": null,
      "outputs": [
        {
          "output_type": "execute_result",
          "data": {
            "text/plain": [
              "'swaraswara'"
            ],
            "application/vnd.google.colaboratory.intrinsic+json": {
              "type": "string"
            }
          },
          "metadata": {},
          "execution_count": 20
        }
      ]
    },
    {
      "cell_type": "markdown",
      "source": [
        "![image.png](data:image/png;base64,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)"
      ],
      "metadata": {
        "id": "3gtozvR19Pyk"
      }
    },
    {
      "cell_type": "code",
      "source": [
        "class India:\n",
        " def Capital(self):\n",
        "  print('Capital of India is Delhi')\n",
        "\n",
        " def Language(self):\n",
        "  print('National  Language of india is Hindi')\n",
        "\n",
        "\n",
        "\n",
        "class USA:\n",
        "  def Capital(self):\n",
        "    print('Capital of United States is Washington D.C')\n",
        "  def Language(self):\n",
        "    print('National  Language of USA is English')\n",
        "\n",
        "\n",
        "class France:\n",
        "   def Capital(self):\n",
        "    print('Capital of France is Paris')\n",
        "   def Language(self):\n",
        "    print('National  Language of France is French')\n",
        "\n",
        "\n",
        "\n"
      ],
      "metadata": {
        "id": "nOvpCVPc89oH"
      },
      "execution_count": null,
      "outputs": []
    },
    {
      "cell_type": "code",
      "source": [
        "I1  =  India()"
      ],
      "metadata": {
        "id": "BQkdDk5G-ozS"
      },
      "execution_count": null,
      "outputs": []
    },
    {
      "cell_type": "code",
      "source": [
        "I1.Capital()"
      ],
      "metadata": {
        "colab": {
          "base_uri": "https://localhost:8080/"
        },
        "id": "tAzXHZsl-sy_",
        "outputId": "cb032e62-0b68-47fb-bfe4-4139ad98f152"
      },
      "execution_count": null,
      "outputs": [
        {
          "output_type": "stream",
          "name": "stdout",
          "text": [
            "Capital of India is Delhi\n"
          ]
        }
      ]
    },
    {
      "cell_type": "code",
      "source": [
        "I1.Language()"
      ],
      "metadata": {
        "colab": {
          "base_uri": "https://localhost:8080/"
        },
        "id": "YqK1Sz0D-ux9",
        "outputId": "ba1396b1-0a6a-4c63-bae4-655d968c0faf"
      },
      "execution_count": null,
      "outputs": [
        {
          "output_type": "stream",
          "name": "stdout",
          "text": [
            "National  Language of india is Hindi\n"
          ]
        }
      ]
    },
    {
      "cell_type": "code",
      "source": [
        "U1  =  USA()"
      ],
      "metadata": {
        "id": "i0OU3Ufx-xGP"
      },
      "execution_count": null,
      "outputs": []
    },
    {
      "cell_type": "code",
      "source": [
        "U1.Capital()"
      ],
      "metadata": {
        "colab": {
          "base_uri": "https://localhost:8080/"
        },
        "id": "SRC7pjol-0gk",
        "outputId": "acaef95c-4821-45fa-dbf3-d25ac2717724"
      },
      "execution_count": null,
      "outputs": [
        {
          "output_type": "stream",
          "name": "stdout",
          "text": [
            "Capital of United States is Washington D.C\n"
          ]
        }
      ]
    },
    {
      "cell_type": "code",
      "source": [
        "U1.Language()"
      ],
      "metadata": {
        "colab": {
          "base_uri": "https://localhost:8080/"
        },
        "id": "Kt7TAGgL-2sT",
        "outputId": "d6d973b6-46bd-4df8-ad38-9a916333efaf"
      },
      "execution_count": null,
      "outputs": [
        {
          "output_type": "stream",
          "name": "stdout",
          "text": [
            "National  Language of USA is English\n"
          ]
        }
      ]
    },
    {
      "cell_type": "code",
      "source": [
        "F1   = France()"
      ],
      "metadata": {
        "id": "FxzO-61--7y7"
      },
      "execution_count": null,
      "outputs": []
    },
    {
      "cell_type": "code",
      "source": [
        "F1.Language()"
      ],
      "metadata": {
        "colab": {
          "base_uri": "https://localhost:8080/"
        },
        "id": "p28v9KBn_AxG",
        "outputId": "4c68ac50-c902-407a-ddfe-e6bce53ee74e"
      },
      "execution_count": null,
      "outputs": [
        {
          "output_type": "stream",
          "name": "stdout",
          "text": [
            "National  Language of France is French\n"
          ]
        }
      ]
    },
    {
      "cell_type": "code",
      "source": [
        "F1.Capital()"
      ],
      "metadata": {
        "colab": {
          "base_uri": "https://localhost:8080/"
        },
        "id": "GaV1g4a5_CWg",
        "outputId": "11188fb2-f29b-4bd0-ec3b-e3a84d5d5cce"
      },
      "execution_count": null,
      "outputs": [
        {
          "output_type": "stream",
          "name": "stdout",
          "text": [
            "Capital of France is Paris\n"
          ]
        }
      ]
    },
    {
      "cell_type": "code",
      "source": [
        "for i in [I1  , U1 , F1]:\n",
        "  print(i.Language())\n",
        "  print(i.Capital())\n",
        "  print()\n",
        "  print()"
      ],
      "metadata": {
        "colab": {
          "base_uri": "https://localhost:8080/"
        },
        "id": "eMbBCtN7_bNh",
        "outputId": "13442135-4f21-44b1-e710-c73574760c6e"
      },
      "execution_count": null,
      "outputs": [
        {
          "output_type": "stream",
          "name": "stdout",
          "text": [
            "National  Language of india is Hindi\n",
            "None\n",
            "Capital of India is Delhi\n",
            "None\n",
            "\n",
            "\n",
            "National  Language of USA is English\n",
            "None\n",
            "Capital of United States is Washington D.C\n",
            "None\n",
            "\n",
            "\n",
            "National  Language of France is French\n",
            "None\n",
            "Capital of France is Paris\n",
            "None\n",
            "\n",
            "\n"
          ]
        }
      ]
    },
    {
      "cell_type": "code",
      "source": [
        "e1  =  England()"
      ],
      "metadata": {
        "colab": {
          "base_uri": "https://localhost:8080/",
          "height": 141
        },
        "id": "PZ7DD3u8_D05",
        "outputId": "aec5e77d-30db-4bd2-b7b4-c50357a7b25a"
      },
      "execution_count": null,
      "outputs": [
        {
          "output_type": "error",
          "ename": "NameError",
          "evalue": "name 'England' is not defined",
          "traceback": [
            "\u001b[0;31m---------------------------------------------------------------------------\u001b[0m",
            "\u001b[0;31mNameError\u001b[0m                                 Traceback (most recent call last)",
            "\u001b[0;32m/tmp/ipython-input-31-2559254282.py\u001b[0m in \u001b[0;36m<cell line: 0>\u001b[0;34m()\u001b[0m\n\u001b[0;32m----> 1\u001b[0;31m \u001b[0me1\u001b[0m  \u001b[0;34m=\u001b[0m  \u001b[0mEngland\u001b[0m\u001b[0;34m(\u001b[0m\u001b[0;34m)\u001b[0m\u001b[0;34m\u001b[0m\u001b[0;34m\u001b[0m\u001b[0m\n\u001b[0m",
            "\u001b[0;31mNameError\u001b[0m: name 'England' is not defined"
          ]
        }
      ]
    },
    {
      "cell_type": "code",
      "source": [],
      "metadata": {
        "id": "ZPgPjDo0BAaI"
      },
      "execution_count": null,
      "outputs": []
    },
    {
      "cell_type": "code",
      "source": [
        "from dataclasses import dataclass"
      ],
      "metadata": {
        "id": "UCKE2UpyBAfn"
      },
      "execution_count": null,
      "outputs": []
    },
    {
      "cell_type": "code",
      "source": [
        "# create function for finding area and perimeter of circle and  square\n"
      ],
      "metadata": {
        "id": "jvS0icd5_IkL"
      },
      "execution_count": null,
      "outputs": []
    },
    {
      "cell_type": "code",
      "source": [
        "@dataclass\n",
        "class  Circle:\n",
        "  r:int|float\n",
        "\n",
        "  def Area(self):\n",
        "    Area = 3.14*self.r**2\n",
        "    return f\"Area of Circle is {Area}\"\n",
        "\n",
        "  def Perimeter(self):\n",
        "    perimeter = 2*3.14*self.r\n",
        "    return f\"Perimeter of Circle is {perimeter}\"\n"
      ],
      "metadata": {
        "id": "uCbsqLAbBBq7"
      },
      "execution_count": null,
      "outputs": []
    },
    {
      "cell_type": "code",
      "source": [
        "c1  =  Circle(2)"
      ],
      "metadata": {
        "id": "7VoCySuFBBwh"
      },
      "execution_count": null,
      "outputs": []
    },
    {
      "cell_type": "code",
      "source": [
        "c1.r\n"
      ],
      "metadata": {
        "colab": {
          "base_uri": "https://localhost:8080/"
        },
        "id": "Nxh-_W_HBln3",
        "outputId": "178daaf6-3916-453a-c49e-58f45a9fc2f5"
      },
      "execution_count": null,
      "outputs": [
        {
          "output_type": "execute_result",
          "data": {
            "text/plain": [
              "2"
            ]
          },
          "metadata": {},
          "execution_count": 48
        }
      ]
    },
    {
      "cell_type": "code",
      "source": [
        "c1.Area()"
      ],
      "metadata": {
        "colab": {
          "base_uri": "https://localhost:8080/",
          "height": 35
        },
        "id": "ErpICk7kBnFT",
        "outputId": "23144abd-d619-44a4-efe3-6e26e2b3ec51"
      },
      "execution_count": null,
      "outputs": [
        {
          "output_type": "execute_result",
          "data": {
            "text/plain": [
              "'Area of Circle is 12.56'"
            ],
            "application/vnd.google.colaboratory.intrinsic+json": {
              "type": "string"
            }
          },
          "metadata": {},
          "execution_count": 49
        }
      ]
    },
    {
      "cell_type": "code",
      "source": [
        "c1.Perimeter()"
      ],
      "metadata": {
        "colab": {
          "base_uri": "https://localhost:8080/",
          "height": 35
        },
        "id": "mRqHRLMCCGZ3",
        "outputId": "8b844f4a-0ae1-4554-8179-4ab2dcb2d44b"
      },
      "execution_count": null,
      "outputs": [
        {
          "output_type": "execute_result",
          "data": {
            "text/plain": [
              "'Perimeter of Circle is 12.56'"
            ],
            "application/vnd.google.colaboratory.intrinsic+json": {
              "type": "string"
            }
          },
          "metadata": {},
          "execution_count": 50
        }
      ]
    },
    {
      "cell_type": "code",
      "source": [
        "# Create clas for rectangle\n",
        "@dataclass\n",
        "class Rectangle:\n",
        "  s1 : int|float\n",
        "  s2 : int|float\n",
        "\n",
        "\n",
        "  def Area(self):\n",
        "    Area = 2*self.s1*self.s2\n",
        "    return f\"Area of Rectangle is {Area}\"\n",
        "\n",
        "  def Perimeter(self):\n",
        "    perimeter = 2*(self.s1+self.s2)\n",
        "    return f\"Perimeter of Circle is {perimeter}\"\n",
        "\n"
      ],
      "metadata": {
        "id": "AADbgESbCI0j"
      },
      "execution_count": null,
      "outputs": []
    },
    {
      "cell_type": "code",
      "source": [
        "R1 = Rectangle(2 ,3)"
      ],
      "metadata": {
        "id": "wbpVuFYFDXdR"
      },
      "execution_count": null,
      "outputs": []
    },
    {
      "cell_type": "code",
      "source": [
        "R1.Area()\n",
        "R1.Perimeter()"
      ],
      "metadata": {
        "colab": {
          "base_uri": "https://localhost:8080/",
          "height": 35
        },
        "id": "aJzNUb5zDXjd",
        "outputId": "944d4e53-ef9c-41ff-9265-ce003b9eedc0"
      },
      "execution_count": null,
      "outputs": [
        {
          "output_type": "execute_result",
          "data": {
            "text/plain": [
              "'Perimeter of Circle is 10'"
            ],
            "application/vnd.google.colaboratory.intrinsic+json": {
              "type": "string"
            }
          },
          "metadata": {},
          "execution_count": 55
        }
      ]
    },
    {
      "cell_type": "code",
      "source": [
        "@dataclass\n",
        "class Triangle :\n",
        "  s1 :  int|float\n",
        "  s2 : int|float\n",
        "  s3  : int|float\n",
        "\n",
        "\n",
        "\n",
        "  def Perimeter(self):\n",
        "    if (self.s1 + self.s2  >  self.s3) and  (self.s2+self.s3 > self.s1) and  (self.s1 + self.s3 > self.s2) :\n",
        "      p  =  self.s1 + self.s2 +self.s3\n",
        "      print( f\"Perimeter of Circle is {p}\")\n",
        "      return p\n",
        "\n",
        "\n",
        "  def Area(self):\n",
        "    if self.Perimeter() is not None :\n",
        "      s  =  self.Perimeter()/2\n",
        "      area  =  (s*(s-self.s1)*(s-self.s2)*(s-self.s3))**1/2\n",
        "      return f\"Area of Rectangle is {area}\"\n",
        "\n"
      ],
      "metadata": {
        "id": "zBxRWLV9C1zy"
      },
      "execution_count": null,
      "outputs": []
    },
    {
      "cell_type": "code",
      "source": [
        "T1  =  Triangle( 2, 3,4)"
      ],
      "metadata": {
        "id": "sY8ZANJaDFOc"
      },
      "execution_count": null,
      "outputs": []
    },
    {
      "cell_type": "code",
      "source": [
        "T1.Area()"
      ],
      "metadata": {
        "colab": {
          "base_uri": "https://localhost:8080/",
          "height": 70
        },
        "id": "oLULTgdWDFUu",
        "outputId": "f059e15b-878e-444f-bab2-61b266ffa010"
      },
      "execution_count": null,
      "outputs": [
        {
          "output_type": "stream",
          "name": "stdout",
          "text": [
            "Perimeter of Circle is 9\n",
            "Perimeter of Circle is 9\n"
          ]
        },
        {
          "output_type": "execute_result",
          "data": {
            "text/plain": [
              "'Area of Rectangle is 4.21875'"
            ],
            "application/vnd.google.colaboratory.intrinsic+json": {
              "type": "string"
            }
          },
          "metadata": {},
          "execution_count": 68
        }
      ]
    },
    {
      "cell_type": "code",
      "source": [
        "for i in [c1  , R1 , T1]:\n",
        "  print(i)\n",
        "  print(i.Area())\n",
        "  print(i.Perimeter())\n",
        "  print()\n",
        "  print()\n",
        "  print('----------------------------------------------------------------------------------')"
      ],
      "metadata": {
        "colab": {
          "base_uri": "https://localhost:8080/"
        },
        "id": "F5Ah6FKlDsIb",
        "outputId": "82394f4f-fe30-4221-b030-5f2faaae04f9"
      },
      "execution_count": null,
      "outputs": [
        {
          "output_type": "stream",
          "name": "stdout",
          "text": [
            "Circle(r=2)\n",
            "Area of Circle is 12.56\n",
            "Perimeter of Circle is 12.56\n",
            "\n",
            "\n",
            "----------------------------------------------------------------------------------\n",
            "Rectangle(s1=2, s2=3)\n",
            "Area of Rectangle is 12\n",
            "Perimeter of Circle is 10\n",
            "\n",
            "\n",
            "----------------------------------------------------------------------------------\n",
            "Triangle(s1=2, s2=3, s3=4)\n",
            "Perimeter of Circle is 9\n",
            "Perimeter of Circle is 9\n",
            "Area of Rectangle is 4.21875\n",
            "Perimeter of Circle is 9\n",
            "9\n",
            "\n",
            "\n",
            "----------------------------------------------------------------------------------\n"
          ]
        }
      ]
    },
    {
      "cell_type": "code",
      "source": [],
      "metadata": {
        "id": "2VnLruBUEbwn"
      },
      "execution_count": null,
      "outputs": []
    }
  ]
}